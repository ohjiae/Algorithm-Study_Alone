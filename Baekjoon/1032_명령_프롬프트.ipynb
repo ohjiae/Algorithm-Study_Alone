{
  "nbformat": 4,
  "nbformat_minor": 0,
  "metadata": {
    "colab": {
      "name": "1032-명령_프롬프트.ipynb",
      "provenance": [],
      "collapsed_sections": [],
      "authorship_tag": "ABX9TyPd1no3chK1RvWI+VRagx0m",
      "include_colab_link": true
    },
    "kernelspec": {
      "name": "python3",
      "display_name": "Python 3"
    },
    "language_info": {
      "name": "python"
    }
  },
  "cells": [
    {
      "cell_type": "markdown",
      "metadata": {
        "id": "view-in-github",
        "colab_type": "text"
      },
      "source": [
        "<a href=\"https://colab.research.google.com/github/ohjiae/Algorithm-Study_Alone/blob/main/Baekjoon/1032_%EB%AA%85%EB%A0%B9_%ED%94%84%EB%A1%AC%ED%94%84%ED%8A%B8.ipynb\" target=\"_parent\"><img src=\"https://colab.research.google.com/assets/colab-badge.svg\" alt=\"Open In Colab\"/></a>"
      ]
    },
    {
      "cell_type": "code",
      "execution_count": 37,
      "metadata": {
        "colab": {
          "base_uri": "https://localhost:8080/"
        },
        "id": "9avYeEPbHzDM",
        "outputId": "da754e3c-5c41-4db8-e3d0-2b2583794589"
      },
      "outputs": [
        {
          "name": "stdout",
          "output_type": "stream",
          "text": [
            "3\n",
            "config.sys\n",
            "config.txt\n",
            "configures\n"
          ]
        }
      ],
      "source": [
        "N = int(input())\n",
        "words = [list(map(str,input())) for _ in range(N)]\n",
        "if len(words)<=1 :\n",
        "    print(''.join(words[0]))\n",
        "else:\n",
        "    result = words[0]\n",
        "    for i in range(1,len(words)):\n",
        "        for a in range(len(words[i])):\n",
        "            if words[i][a] != result[a]:\n",
        "                result[a] = '?'\n",
        "    print(''.join(result))"
      ]
    }
  ]
}