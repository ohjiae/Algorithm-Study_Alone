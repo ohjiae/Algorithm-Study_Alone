{
  "nbformat": 4,
  "nbformat_minor": 0,
  "metadata": {
    "colab": {
      "name": "2230-수_고르기.ipynb",
      "provenance": [],
      "collapsed_sections": [],
      "authorship_tag": "ABX9TyNbNS4n1B5aiOOEe6Dw2e8u",
      "include_colab_link": true
    },
    "kernelspec": {
      "name": "python3",
      "display_name": "Python 3"
    },
    "language_info": {
      "name": "python"
    }
  },
  "cells": [
    {
      "cell_type": "markdown",
      "metadata": {
        "id": "view-in-github",
        "colab_type": "text"
      },
      "source": [
        "<a href=\"https://colab.research.google.com/github/ohjiae/Problems_Solving/blob/main/Baekjoon/2230-%EC%88%98_%EA%B3%A0%EB%A5%B4%EA%B8%B0.ipynb\" target=\"_parent\"><img src=\"https://colab.research.google.com/assets/colab-badge.svg\" alt=\"Open In Colab\"/></a>"
      ]
    },
    {
      "cell_type": "code",
      "source": [
        "# [2230 : 수 고르기](https://www.acmicpc.net/problem/2230)\n",
        "# 🙋‍♀️ 내 코드\n",
        "\n",
        "import sys\n",
        "#input = sys.stdin.readline\n",
        "\n",
        "N, M = map(int,input().split())\n",
        "nums = set()\n",
        "min_dif = sys.maxsize\n",
        "\n",
        "if N == 1:\n",
        "    print(0)\n",
        "else :\n",
        "    for _ in range(N):\n",
        "        i = int(input())\n",
        "        if (i+M in nums) or (i-M in nums):\n",
        "            print(M)\n",
        "            break\n",
        "        else :\n",
        "            nums.add(i)\n",
        "            dif = max(i,M)-min(i,M)\n",
        "            print('max ',max(i,M),'min ',min(i,M),'dif',dif,'min_dif ',min_dif)\n",
        "            if M <= dif < min_dif :\n",
        "                min_dif = dif\n",
        "                print('dif',dif,'min_dif ',min_dif)\n",
        "    else : print(min_dif)"
      ],
      "metadata": {
        "colab": {
          "base_uri": "https://localhost:8080/"
        },
        "id": "cbvBaQ7z7H5b",
        "outputId": "14602dab-c936-46eb-f844-acaf1ca8557c"
      },
      "execution_count": null,
      "outputs": [
        {
          "output_type": "stream",
          "name": "stdout",
          "text": [
            "3 2\n",
            "1\n",
            "max  2 min  1 dif 1 min_dif  9223372036854775807\n",
            "5\n",
            "max  5 min  2 dif 3 min_dif  9223372036854775807\n",
            "dif 3 min_dif  3\n",
            "6\n",
            "max  6 min  2 dif 4 min_dif  3\n",
            "3\n"
          ]
        }
      ]
    },
    {
      "cell_type": "code",
      "source": [
        "# [2230 : 수 고르기](https://www.acmicpc.net/problem/2230)\n",
        "# 🙋‍♀️ 내 코드\n",
        "\n",
        "def col_num(arr,M,N):\n",
        "    s,e = 0,1\n",
        "    ans = 2e9+1\n",
        "    while e < N :\n",
        "        if arr[e]-arr[s] < M:\n",
        "            e += 1\n",
        "            continue\n",
        "        if arr[e]-arr[s] == M :\n",
        "            return M\n",
        "        ans = min(ans,arr[e]-arr[s])\n",
        "        s += 1\n",
        "    return ans\n",
        "\n",
        "N, M = map(int,input().split())\n",
        "A = [0]*N\n",
        "for i in range(N):\n",
        "    A[i] = int(input())\n",
        "answer = col_num(sorted(A),M,N)\n",
        "print(answer)"
      ],
      "metadata": {
        "id": "kSl9wVr57pDG",
        "colab": {
          "base_uri": "https://localhost:8080/"
        },
        "outputId": "d271276f-59c4-4a90-ae42-4ebe6119ba5b"
      },
      "execution_count": 11,
      "outputs": [
        {
          "output_type": "stream",
          "name": "stdout",
          "text": [
            "5 2\n",
            "1\n",
            "10\n",
            "9\n",
            "4\n",
            "34\n",
            "None\n"
          ]
        }
      ]
    },
    {
      "cell_type": "code",
      "source": [
        ""
      ],
      "metadata": {
        "id": "K8NMU2JaRxaH"
      },
      "execution_count": null,
      "outputs": []
    }
  ]
}