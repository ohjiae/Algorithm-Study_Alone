{
  "nbformat": 4,
  "nbformat_minor": 0,
  "metadata": {
    "colab": {
      "name": "1032-명령_프롬프트.ipynb",
      "provenance": [],
      "collapsed_sections": [],
      "authorship_tag": "ABX9TyNEh2bQ5Sj9VZnF402lfT/8",
      "include_colab_link": true
    },
    "kernelspec": {
      "name": "python3",
      "display_name": "Python 3"
    },
    "language_info": {
      "name": "python"
    }
  },
  "cells": [
    {
      "cell_type": "markdown",
      "metadata": {
        "id": "view-in-github",
        "colab_type": "text"
      },
      "source": [
        "<a href=\"https://colab.research.google.com/github/ohjiae/Algorithm-Study_Alone/blob/main/Baekjoon/1032-%EB%AA%85%EB%A0%B9_%ED%94%84%EB%A1%AC%ED%94%84%ED%8A%B8.ipynb\" target=\"_parent\"><img src=\"https://colab.research.google.com/assets/colab-badge.svg\" alt=\"Open In Colab\"/></a>"
      ]
    },
    {
      "cell_type": "code",
      "execution_count": 5,
      "metadata": {
        "colab": {
          "base_uri": "https://localhost:8080/"
        },
        "id": "9avYeEPbHzDM",
        "outputId": "32e3296f-a5f5-4fef-a2e6-94be3cc938ae"
      },
      "outputs": [
        {
          "output_type": "stream",
          "name": "stdout",
          "text": [
            "1\n",
            "dd\n",
            "dd\n"
          ]
        }
      ],
      "source": [
        "words = [list(input()) for _ in range(int(input()))]\n",
        "res = words[0]\n",
        "for i in range(1,len(words)):\n",
        "    for a in range(len(res)):\n",
        "        if words[i][a] != res[a]:\n",
        "            res[a] = '?'\n",
        "print(''.join(res))"
      ]
    },
    {
      "cell_type": "code",
      "source": [
        "N = int(input())\n",
        "L = list(input())\n",
        "for i in range(N-1):\n",
        "    s = input()\n",
        "    for j in range(len(s)):\n",
        "        if L[j] != s[j]:\n",
        "            L[j] = '?'\n",
        "print(''.join(L))"
      ],
      "metadata": {
        "id": "p2Cq3xmMN7n2"
      },
      "execution_count": null,
      "outputs": []
    }
  ]
}