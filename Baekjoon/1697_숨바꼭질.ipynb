{
  "nbformat": 4,
  "nbformat_minor": 0,
  "metadata": {
    "colab": {
      "name": "1697-숨바꼭질.ipynb",
      "provenance": [],
      "collapsed_sections": [],
      "authorship_tag": "ABX9TyN7QQxPDlYPVL5GUOSgc+/w",
      "include_colab_link": true
    },
    "kernelspec": {
      "name": "python3",
      "display_name": "Python 3"
    },
    "language_info": {
      "name": "python"
    }
  },
  "cells": [
    {
      "cell_type": "markdown",
      "metadata": {
        "id": "view-in-github",
        "colab_type": "text"
      },
      "source": [
        "<a href=\"https://colab.research.google.com/github/ohjiae/Algorithm-Study_Alone/blob/main/Baekjoon/1697_%EC%88%A8%EB%B0%94%EA%BC%AD%EC%A7%88.ipynb\" target=\"_parent\"><img src=\"https://colab.research.google.com/assets/colab-badge.svg\" alt=\"Open In Colab\"/></a>"
      ]
    },
    {
      "cell_type": "code",
      "execution_count": 5,
      "metadata": {
        "colab": {
          "base_uri": "https://localhost:8080/"
        },
        "id": "VqRgURcFRhlZ",
        "outputId": "935f36ee-1c21-48b1-dd35-1c48ca3a9cc9"
      },
      "outputs": [
        {
          "output_type": "stream",
          "name": "stdout",
          "text": [
            "5 17\n",
            "q=deque([]),now=5,time=0,vis=False\n",
            "q=deque([4, 10]),now=6,time=1,vis=True\n",
            "q=deque([10, 7, 5, 12]),now=4,time=1,vis=True\n",
            "q=deque([7, 5, 12, 3, 8]),now=10,time=1,vis=True\n",
            "q=deque([5, 12, 3, 8, 11, 9, 20]),now=7,time=2,vis=True\n",
            "q=deque([12, 3, 8, 11, 9, 20, 14]),now=5,time=2,vis=True\n",
            "q=deque([3, 8, 11, 9, 20, 14]),now=12,time=2,vis=True\n",
            "q=deque([8, 11, 9, 20, 14, 13, 24]),now=3,time=2,vis=True\n",
            "q=deque([11, 9, 20, 14, 13, 24, 2]),now=8,time=2,vis=True\n",
            "q=deque([9, 20, 14, 13, 24, 2, 16]),now=11,time=2,vis=True\n",
            "q=deque([20, 14, 13, 24, 2, 16, 22]),now=9,time=2,vis=True\n",
            "q=deque([14, 13, 24, 2, 16, 22, 18]),now=20,time=2,vis=True\n",
            "q=deque([13, 24, 2, 16, 22, 18, 21, 19, 40]),now=14,time=3,vis=True\n",
            "q=deque([24, 2, 16, 22, 18, 21, 19, 40, 15, 28]),now=13,time=3,vis=True\n",
            "q=deque([2, 16, 22, 18, 21, 19, 40, 15, 28, 26]),now=24,time=3,vis=True\n",
            "q=deque([16, 22, 18, 21, 19, 40, 15, 28, 26, 25, 23, 48]),now=2,time=3,vis=True\n",
            "q=deque([22, 18, 21, 19, 40, 15, 28, 26, 25, 23, 48, 1]),now=16,time=3,vis=True\n",
            "q=deque([18, 21, 19, 40, 15, 28, 26, 25, 23, 48, 1, 17, 32]),now=22,time=3,vis=True\n",
            "q=deque([21, 19, 40, 15, 28, 26, 25, 23, 48, 1, 17, 32, 44]),now=18,time=3,vis=True\n",
            "q=deque([19, 40, 15, 28, 26, 25, 23, 48, 1, 17, 32, 44, 36]),now=21,time=3,vis=True\n",
            "q=deque([40, 15, 28, 26, 25, 23, 48, 1, 17, 32, 44, 36, 42]),now=19,time=3,vis=True\n",
            "q=deque([15, 28, 26, 25, 23, 48, 1, 17, 32, 44, 36, 42, 38]),now=40,time=3,vis=True\n",
            "q=deque([28, 26, 25, 23, 48, 1, 17, 32, 44, 36, 42, 38, 41, 39, 80]),now=15,time=4,vis=True\n",
            "q=deque([26, 25, 23, 48, 1, 17, 32, 44, 36, 42, 38, 41, 39, 80, 30]),now=28,time=4,vis=True\n",
            "q=deque([25, 23, 48, 1, 17, 32, 44, 36, 42, 38, 41, 39, 80, 30, 29, 27, 56]),now=26,time=4,vis=True\n",
            "q=deque([23, 48, 1, 17, 32, 44, 36, 42, 38, 41, 39, 80, 30, 29, 27, 56, 52]),now=25,time=4,vis=True\n",
            "q=deque([48, 1, 17, 32, 44, 36, 42, 38, 41, 39, 80, 30, 29, 27, 56, 52, 50]),now=23,time=4,vis=True\n",
            "q=deque([1, 17, 32, 44, 36, 42, 38, 41, 39, 80, 30, 29, 27, 56, 52, 50, 46]),now=48,time=4,vis=True\n",
            "q=deque([17, 32, 44, 36, 42, 38, 41, 39, 80, 30, 29, 27, 56, 52, 50, 46, 49, 47, 96]),now=1,time=4,vis=True\n",
            "q=deque([32, 44, 36, 42, 38, 41, 39, 80, 30, 29, 27, 56, 52, 50, 46, 49, 47, 96, 0]),now=17,time=4,vis=True\n",
            "4\n",
            "None\n"
          ]
        }
      ],
      "source": [
        "from collections import deque\n",
        "N, K = map(int,input().split())\n",
        "\n",
        "# 1. 걸리는 시간, 방문 여부 배열 만들기\n",
        "time = [0]*100001\n",
        "visited = [False]*100001\n",
        "q = deque()\n",
        "\n",
        "# 2. 큐가 빌때까지 반복할 것.\n",
        "## 큐를 꺼내서>>>>\n",
        "### 1) 그곳이 동생이 있는 위치면 멈추기\n",
        "### 2) 동생이 없으면 왼쪽, 오른쪽, 두배인 위치 큐에 넣기. \n",
        "### 3) 범위에 있고, 방문하지 않았다면,\n",
        "### 4) 방문했다고 바꾸기.\n",
        "def bfs(N,K):\n",
        "    q.append(N)\n",
        "    visited[N]=True\n",
        "    while q:\n",
        "        now = q.popleft()\n",
        "        if now == K:\n",
        "            print(time[now])\n",
        "            break\n",
        "        else : \n",
        "            for i in [now+1,now-1,2*now]:\n",
        "                if 0<=i<=100000 and not visited[i]:\n",
        "                    q.append(i)\n",
        "                    visited[i] = True \n",
        "                    time[i] = time[now]+1\n",
        "bfs(N,K)                "
      ]
    },
    {
      "cell_type": "code",
      "source": [
        ""
      ],
      "metadata": {
        "id": "lTj3b_gPhrQb"
      },
      "execution_count": null,
      "outputs": []
    }
  ]
}