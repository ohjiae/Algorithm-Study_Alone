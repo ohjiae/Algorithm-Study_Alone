{
  "nbformat": 4,
  "nbformat_minor": 0,
  "metadata": {
    "colab": {
      "name": "16954-움직이는_미로_탈출.ipynb",
      "provenance": [],
      "collapsed_sections": [],
      "authorship_tag": "ABX9TyOfT4+Qs+z/RDFv/wd0l+M1",
      "include_colab_link": true
    },
    "kernelspec": {
      "name": "python3",
      "display_name": "Python 3"
    },
    "language_info": {
      "name": "python"
    }
  },
  "cells": [
    {
      "cell_type": "markdown",
      "metadata": {
        "id": "view-in-github",
        "colab_type": "text"
      },
      "source": [
        "<a href=\"https://colab.research.google.com/github/ohjiae/Problems_Solving/blob/main/Baekjoon/16954-%EC%9B%80%EC%A7%81%EC%9D%B4%EB%8A%94_%EB%AF%B8%EB%A1%9C_%ED%83%88%EC%B6%9C.ipynb\" target=\"_parent\"><img src=\"https://colab.research.google.com/assets/colab-badge.svg\" alt=\"Open In Colab\"/></a>"
      ]
    },
    {
      "cell_type": "code",
      "execution_count": null,
      "metadata": {
        "id": "eM-fkuSxqKSV"
      },
      "outputs": [],
      "source": [
        "# [16954번 : 움직이는 미로 탈출]\n",
        "# 🙋‍♀️ 내 코드"
      ]
    },
    {
      "cell_type": "code",
      "source": [
        "#input = __import__('sys').stdin.readline\n",
        "from collections import deque\n",
        "q = deque()\n",
        "n = 8\n",
        "graph = [list(input().rstrip()) for _ in range(n)]\n",
        "visited = [[False]*n for _ in range(n)]\n",
        "dir=((0,0),(0,1),(0,-1),(1,0),(-1,0),(1,-1),(0,-1),(-1,-1))\n",
        "\n",
        "q.append((7,0))\n",
        "visited[0][7] = True\n",
        "ans = 0\n",
        "\n",
        "while q :\n",
        "    j,i = q.popleft()\n",
        "    if graph[j][i] == '#':\n",
        "        continue\n",
        "    for k in range(n+1):\n",
        "        ny = j + dir[k][0]\n",
        "        nx = i + dir[k][1]\n",
        "        \n",
        "        if (graph[ny][nx] == '#') and not(0<=i<8 and 0<=j<8):\n",
        "            continue\n",
        "        if ny == 0 :\n",
        "            ans = 1\n",
        "        if not visited[ny-1][nx]:\n",
        "            visited[ny-1][nx] = True\n",
        "            q.append((ny-1,nx))\n",
        "\n",
        "print(ans)\n"
      ],
      "metadata": {
        "id": "wBnSW1l4_sqC"
      },
      "execution_count": null,
      "outputs": []
    }
  ]
}