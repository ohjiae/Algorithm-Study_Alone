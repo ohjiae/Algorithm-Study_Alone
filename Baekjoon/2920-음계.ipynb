{
  "nbformat": 4,
  "nbformat_minor": 0,
  "metadata": {
    "colab": {
      "name": "2920-음계.ipynb",
      "provenance": [],
      "collapsed_sections": [],
      "authorship_tag": "ABX9TyP/hIWchwHUgUwup4KjpjJy",
      "include_colab_link": true
    },
    "kernelspec": {
      "name": "python3",
      "display_name": "Python 3"
    },
    "language_info": {
      "name": "python"
    }
  },
  "cells": [
    {
      "cell_type": "markdown",
      "metadata": {
        "id": "view-in-github",
        "colab_type": "text"
      },
      "source": [
        "<a href=\"https://colab.research.google.com/github/ohjiae/Problems_Solving/blob/main/Baekjoon/2920_%EC%9D%8C%EA%B3%84.ipynb\" target=\"_parent\"><img src=\"https://colab.research.google.com/assets/colab-badge.svg\" alt=\"Open In Colab\"/></a>"
      ]
    },
    {
      "cell_type": "code",
      "execution_count": null,
      "metadata": {
        "id": "gE_VdNj9YZXx"
      },
      "outputs": [],
      "source": [ 
        "# [2920번 : 음계](https://www.acmicpc.net/problem/2920)\n",
        "melody = list(map(int,input().split()))\n",
        "one, eight = min(melody), max(melody)\n",
        "if list(range(one,eight+1,1)) == melody :\n",
        "    print('ascending')\n",
        "elif list(range(eight,one-1,-1)) == melody:\n",
        "    print('descending')\n",
        "else : print('mixed')"
      ]
    }
  ]
}
