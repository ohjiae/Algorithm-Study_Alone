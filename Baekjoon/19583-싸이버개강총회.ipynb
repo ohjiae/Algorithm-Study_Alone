{
  "nbformat": 4,
  "nbformat_minor": 0,
  "metadata": {
    "colab": {
      "name": "19583-싸이버개강총회.ipynb",
      "provenance": [],
      "collapsed_sections": [],
      "authorship_tag": "ABX9TyPLGe+6UoMt8qXugmce/jVW",
      "include_colab_link": true
    },
    "kernelspec": {
      "name": "python3",
      "display_name": "Python 3"
    },
    "language_info": {
      "name": "python"
    }
  },
  "cells": [
    {
      "cell_type": "markdown",
      "metadata": {
        "id": "view-in-github",
        "colab_type": "text"
      },
      "source": [
        "<a href=\"https://colab.research.google.com/github/ohjiae/Algorithm-Study_Alone/blob/main/Baekjoon/19583_%EC%8B%B8%EC%9D%B4%EB%B2%84%EA%B0%9C%EA%B0%95%EC%B4%9D%ED%9A%8C.ipynb\" target=\"_parent\"><img src=\"https://colab.research.google.com/assets/colab-badge.svg\" alt=\"Open In Colab\"/></a>"
      ]
    },
    {
      "cell_type": "code",
      "execution_count": 36,
      "metadata": {
        "colab": {
          "base_uri": "https://localhost:8080/"
        },
        "id": "sER3KfZhnjDr",
        "outputId": "fcf70f26-8587-4161-ebea-fb0c892dcddf"
      },
      "outputs": [
        {
          "output_type": "stream",
          "name": "stdout",
          "text": [
            "h=21,sth=22,m=30,stm=0\n",
            "s= {'malkoring'}\n",
            "h=21,sth=22,m=33,stm=0\n",
            "s= {'tolelom', 'malkoring'}\n",
            "h=21,sth=22,m=34,stm=0\n",
            "s= {'tolelom', 'malkoring', 'minjae705'}\n",
            "h=21,sth=22,m=35,stm=0\n",
            "s= {'hhan14', 'tolelom', 'malkoring', 'minjae705'}\n",
            "h=21,sth=22,m=36,stm=0\n",
            "s= {'tolelom', 'malkoring', 'hhan14', 'minjae705', 'dicohy27'}\n",
            "h=21,sth=22,m=40,stm=0\n",
            "s= {'tolelom', 'malkoring', 'hhan14', 'minjae705', 'dicohy27', '906bc'}\n",
            "h=23,sth=22,m=0,stm=0\n",
            "e= {'906bc'}\n",
            "h=23,sth=22,m=1,stm=0\n",
            "e= {'tolelom', '906bc'}\n",
            "h=23,sth=22,m=10,stm=0\n",
            "e= {'tolelom', 'minjae705', '906bc'}\n",
            "h=23,sth=22,m=11,stm=0\n",
            "e= {'hhan14', 'tolelom', 'minjae705', '906bc'}\n",
            "h=23,sth=22,m=20,stm=0\n",
            "e= {'tolelom', 'hhan14', 'minjae705', 'dicohy27', '906bc'}\n",
            "5\n"
          ]
        }
      ],
      "source": [
        "#import sys\n",
        "#input = sys.stdin.readline\n",
        "S,E,Q = map(str,input().split())\n",
        "S = int(''.join(S.split(':')))\n",
        "E = int(''.join(E.split(':')))\n",
        "Q = int(''.join(Q.split(':')))\n",
        "start = set()\n",
        "end = set()\n",
        "while True:\n",
        "    try:\n",
        "        time, name = input().split()\n",
        "        time = int(''.join(time.split(':')))\n",
        "        if time<=S:\n",
        "            start.add(name)\n",
        "        elif E<=time<=Q:\n",
        "            end.add(name)\n",
        "    except:\n",
        "        break\n",
        "print(len(start&end))"
      ]
    }
  ]
}
