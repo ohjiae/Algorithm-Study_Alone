{
  "nbformat": 4,
  "nbformat_minor": 0,
  "metadata": {
    "colab": {
      "name": "4889-안정적인_문자열.ipynb",
      "provenance": [],
      "collapsed_sections": [],
      "authorship_tag": "ABX9TyMGo0ybkhqWk8gF0qXyyC7g",
      "include_colab_link": true
    },
    "kernelspec": {
      "name": "python3",
      "display_name": "Python 3"
    },
    "language_info": {
      "name": "python"
    }
  },
  "cells": [
    {
      "cell_type": "markdown",
      "metadata": {
        "id": "view-in-github",
        "colab_type": "text"
      },
      "source": [
        "<a href=\"https://colab.research.google.com/github/ohjiae/Algorithm-Study_Alone/blob/main/Baekjoon/4889_%EC%95%88%EC%A0%95%EC%A0%81%EC%9D%B8_%EB%AC%B8%EC%9E%90%EC%97%B4.ipynb\" target=\"_parent\"><img src=\"https://colab.research.google.com/assets/colab-badge.svg\" alt=\"Open In Colab\"/></a>"
      ]
    },
    {
      "cell_type": "code",
      "execution_count": 8,
      "metadata": {
        "colab": {
          "base_uri": "https://localhost:8080/"
        },
        "id": "ZKLKC_XL5gUX",
        "outputId": "9d9c086c-db41-44d9-d2b2-d434301cb6ea"
      },
      "outputs": [
        {
          "name": "stdout",
          "output_type": "stream",
          "text": [
            "}{\n",
            "cnt=1,ans=0,stack=[],string=}{\n",
            "cnt=1,ans=1,stack=['{'],string=}{\n",
            "1. 2\n",
            "{}}{\n",
            "cnt=2,ans=0,stack=[],string={}}{\n",
            "cnt=2,ans=0,stack=['{'],string={}}{\n",
            "cnt=2,ans=0,stack=[],string={}}{\n",
            "cnt=2,ans=1,stack=['{'],string={}}{\n",
            "2. 2\n",
            "{{}}{}}{{}\n",
            "cnt=3,ans=0,stack=[],string={{}}{}}{{}\n",
            "cnt=3,ans=0,stack=['{'],string={{}}{}}{{}\n",
            "cnt=3,ans=0,stack=['{', '{'],string={{}}{}}{{}\n",
            "cnt=3,ans=0,stack=['{'],string={{}}{}}{{}\n",
            "cnt=3,ans=0,stack=[],string={{}}{}}{{}\n",
            "cnt=3,ans=0,stack=['{'],string={{}}{}}{{}\n",
            "cnt=3,ans=0,stack=[],string={{}}{}}{{}\n",
            "cnt=3,ans=1,stack=['{'],string={{}}{}}{{}\n",
            "cnt=3,ans=1,stack=['{', '{'],string={{}}{}}{{}\n",
            "cnt=3,ans=1,stack=['{', '{', '{'],string={{}}{}}{{}\n",
            "3. 2\n",
            "--\n"
          ]
        }
      ],
      "source": [
        "#from sys import stdin\n",
        "#input=sys.stdin.readline\n",
        "cnt = 0\n",
        "while True:\n",
        "    ans = 0\n",
        "    string = input()\n",
        "    if '-' in string:\n",
        "        break\n",
        "    stack = list()\n",
        "    cnt += 1\n",
        "    for i in range(len(string)):\n",
        "        if string[i] == '{':\n",
        "            stack.append('{')\n",
        "            #if i == len(string):\n",
        "             #   ans += 1\n",
        "        else:\n",
        "            if not stack:\n",
        "                stack.append('{')\n",
        "                ans += 1\n",
        "            else :\n",
        "                stack.pop()\n",
        "    if stack:\n",
        "        print(f'{cnt}. {ans+len(stack)//2}')\n",
        "    else :\n",
        "        print(f'{cnt}. {ans}')\n"
      ]
    },
    {
      "cell_type": "code",
      "source": [
        "{}"
      ],
      "metadata": {
        "id": "oj-C04Db-WST"
      },
      "execution_count": null,
      "outputs": []
    }
  ]
}