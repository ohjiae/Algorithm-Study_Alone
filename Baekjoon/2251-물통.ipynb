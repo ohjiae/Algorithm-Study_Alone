{
  "nbformat": 4,
  "nbformat_minor": 0,
  "metadata": {
    "colab": {
      "name": "2251-물통.ipynb",
      "provenance": [],
      "collapsed_sections": [],
      "authorship_tag": "ABX9TyPjPIfhUHkBi6ZIyJpG7Gge",
      "include_colab_link": true
    },
    "kernelspec": {
      "name": "python3",
      "display_name": "Python 3"
    },
    "language_info": {
      "name": "python"
    }
  },
  "cells": [
    {
      "cell_type": "markdown",
      "metadata": {
        "id": "view-in-github",
        "colab_type": "text"
      },
      "source": [
        "<a href=\"https://colab.research.google.com/github/ohjiae/Problems_Solving/blob/main/Baekjoon/2251-%EB%AC%BC%ED%86%B5.ipynb\" target=\"_parent\"><img src=\"https://colab.research.google.com/assets/colab-badge.svg\" alt=\"Open In Colab\"/></a>"
      ]
    },
    {
      "cell_type": "code",
      "execution_count": 1,
      "metadata": {
        "colab": {
          "base_uri": "https://localhost:8080/",
          "height": 156
        },
        "id": "6LgM_38K6Hb9",
        "outputId": "4aa5e875-a441-43ff-c998-4116027fa4f1"
      },
      "outputs": [
        {
          "name": "stdout",
          "output_type": "stream",
          "text": [
            "8 9 10\n"
          ]
        },
        {
          "output_type": "error",
          "ename": "SyntaxError",
          "evalue": "ignored",
          "traceback": [
            "\u001b[0;36m  File \u001b[0;32m\"<ipython-input-1-b073289b4e5d>\"\u001b[0;36m, line \u001b[0;32m11\u001b[0m\n\u001b[0;31m    global A\u001b[0m\n\u001b[0m    ^\u001b[0m\n\u001b[0;31mSyntaxError\u001b[0m\u001b[0;31m:\u001b[0m name 'A' is parameter and global\n"
          ]
        }
      ],
      "source": [
        "# [2251번 - 물통](https://www.acmicpc.net/problem/2251)\n",
        "# 🙋‍♀️ 내 코드\n",
        "A, B, C = map(int,input().split())\n",
        "\n",
        "'''\n",
        "30300\n",
        "'''\n",
        "\n",
        "\n",
        "def water(A,B,C):\n",
        "    global A\n",
        "    global B\n",
        "    global C\n",
        "\n",
        "    "
      ]
    },
    {
      "cell_type": "code",
      "source": [
        ""
      ],
      "metadata": {
        "id": "S9jXIrAV7PkI"
      },
      "execution_count": null,
      "outputs": []
    }
  ]
}