{
  "nbformat": 4,
  "nbformat_minor": 0,
  "metadata": {
    "colab": {
      "name": "1303-전쟁_전투.ipynb",
      "provenance": [],
      "collapsed_sections": [],
      "authorship_tag": "ABX9TyMtPeMVP0D5gJzyfgf/5OBG",
      "include_colab_link": true
    },
    "kernelspec": {
      "name": "python3",
      "display_name": "Python 3"
    },
    "language_info": {
      "name": "python"
    }
  },
  "cells": [
    {
      "cell_type": "markdown",
      "metadata": {
        "id": "view-in-github",
        "colab_type": "text"
      },
      "source": [
        "<a href=\"https://colab.research.google.com/github/ohjiae/Problems_Solving/blob/main/1303-%EC%A0%84%EC%9F%81_%EC%A0%84%ED%88%AC.ipynb\" target=\"_parent\"><img src=\"https://colab.research.google.com/assets/colab-badge.svg\" alt=\"Open In Colab\"/></a>"
      ]
    },
    {
      "cell_type": "code",
      "execution_count": 5,
      "metadata": {
        "colab": {
          "base_uri": "https://localhost:8080/"
        },
        "id": "9BYKTgrXu7YQ",
        "outputId": "eeb2923b-f763-4fcb-97b7-6333db8002ae"
      },
      "outputs": [
        {
          "name": "stdout",
          "output_type": "stream",
          "text": [
            "5 5\n"
          ]
        }
      ],
      "source": [
        "# [1303번 - 전쟁_전투](https://www.acmicpc.net/problem/1303)\n",
        "# 🙋‍♀️ 내 코드\n",
        "\n",
        "from sys import stdin\n",
        "N, M = map(int, input().split())\n",
        "# battle_map = [list(map(str, sys.stdin.readline())) for _ in range(M)]\n",
        "battle_map = [['W','B','W','W','W'],['W','W','W','W','W'],['B','B','B','W','W'],['B','B','B','B','B'],['W','W','W','W','W']]\n"
      ]
    },
    {
      "cell_type": "code",
      "source": [
        "W = 0\n",
        "B = 0\n",
        "temp_W = 0\n",
        "temp_B = 0\n",
        "move = [(0,-1),(0,1),(-1,0),(1,0)] # 좌,우,위,아래\n",
        "\n",
        "for j in range(M) : \n",
        "    for i in range(N) : \n",
        "        battle_map[i],[j]\n",
        "\n"
      ],
      "metadata": {
        "id": "lJ8cIJSnwD1f"
      },
      "execution_count": null,
      "outputs": []
    }
  ]
}