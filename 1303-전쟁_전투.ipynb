{
  "nbformat": 4,
  "nbformat_minor": 0,
  "metadata": {
    "colab": {
      "name": "1303-전쟁_전투.ipynb",
      "provenance": [],
      "collapsed_sections": [],
      "authorship_tag": "ABX9TyP23q0zzeOZw09I9HmMnLXu",
      "include_colab_link": true
    },
    "kernelspec": {
      "name": "python3",
      "display_name": "Python 3"
    },
    "language_info": {
      "name": "python"
    }
  },
  "cells": [
    {
      "cell_type": "markdown",
      "metadata": {
        "id": "view-in-github",
        "colab_type": "text"
      },
      "source": [
        "<a href=\"https://colab.research.google.com/github/ohjiae/Problems_Solving/blob/main/1303-%EC%A0%84%EC%9F%81_%EC%A0%84%ED%88%AC.ipynb\" target=\"_parent\"><img src=\"https://colab.research.google.com/assets/colab-badge.svg\" alt=\"Open In Colab\"/></a>"
      ]
    },
    {
      "cell_type": "code",
      "execution_count": 1,
      "metadata": {
        "colab": {
          "base_uri": "https://localhost:8080/"
        },
        "id": "9BYKTgrXu7YQ",
        "outputId": "085220fd-bdec-405e-f416-ae5236d60d78"
      },
      "outputs": [
        {
          "name": "stdout",
          "output_type": "stream",
          "text": [
            "5 5\n"
          ]
        }
      ],
      "source": [
        "# [1303번 - 전쟁_전투](https://www.acmicpc.net/problem/1303)\n",
        "# 🙋‍♀️ 내 코드\n",
        "\n",
        "#from sys import stdin\n",
        "N, M = map(int, input().split())\n",
        "# battle_map = [list(map(str, sys.stdin.readline())) for _ in range(M)]\n",
        "battle_map = [['W','B','W','W','W'],['W','W','W','W','W'],['B','B','B','W','W'],['B','B','B','B','B'],['W','W','W','W','W']]\n"
      ]
    },
    {
      "cell_type": "code",
      "source": [
        "W_result = 0\n",
        "B_result = 0\n",
        "W = 0\n",
        "B = 0\n",
        "\n",
        "def battle(x, y):\n",
        "    visited = 'nv'\n",
        "    if x <= -1 or x >= N or y <= -1 or y >= M:\n",
        "        visited = 'v'\n",
        "        return visited\n",
        "\n",
        "    if battle_map[x][y] == 'W': \n",
        "        battle_map[x-1][y]\n",
        "        battle_map[x+1][y]\n",
        "        battle_map[x][y-1]\n",
        "        battle_map[x][y+1]\n",
        "        W += 1\n",
        "        return visited\n",
        "    \n",
        "    elif battle_map[x][y] == 'B': \n",
        "        visited = 'nv'\n",
        "        battle_map[x-1][y]\n",
        "        battle_map[x+1][y]\n",
        "        battle_map[x][y-1]\n",
        "        battle_map[x][y+1]\n",
        "        B += 1\n",
        "        return visited\n",
        "    visted = 'v'\n",
        "\n",
        "\n",
        "\n",
        "for i in range(N):\n",
        "    for j in range(M):\n",
        "        if battle(i,j) == 'nv': # 방문안했었으면 \n",
        "            if battle_map[x][y] == 'W': # 방문한 곳 점수 합산.\n",
        "                W_result += W^2\n",
        "            elif battle_map[x][y] == 'B': \n",
        "                B_result += B^2\n",
        "\n",
        "\n",
        "print(W_result, B_result)    "
      ],
      "metadata": {
        "colab": {
          "base_uri": "https://localhost:8080/",
          "height": 135
        },
        "id": "lJ8cIJSnwD1f",
        "outputId": "24b2fbc0-3e99-429b-84f0-6f6a7a221ef4"
      },
      "execution_count": 2,
      "outputs": [
        {
          "output_type": "error",
          "ename": "SyntaxError",
          "evalue": "ignored",
          "traceback": [
            "\u001b[0;36m  File \u001b[0;32m\"<ipython-input-2-4ffdf1859a30>\"\u001b[0;36m, line \u001b[0;32m8\u001b[0m\n\u001b[0;31m    if x <= -1 or x >= 1 N or y <= -1 or y >= M:\u001b[0m\n\u001b[0m                         ^\u001b[0m\n\u001b[0;31mSyntaxError\u001b[0m\u001b[0;31m:\u001b[0m invalid syntax\n"
          ]
        }
      ]
    },
    {
      "cell_type": "code",
      "source": [
        ""
      ],
      "metadata": {
        "id": "-eaWE4WZ3xg3"
      },
      "execution_count": null,
      "outputs": []
    }
  ]
}