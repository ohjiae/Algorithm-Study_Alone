{
  "nbformat": 4,
  "nbformat_minor": 0,
  "metadata": {
    "colab": {
      "name": "공부필요1504-특정한_최단_경로.ipynb",
      "provenance": [],
      "collapsed_sections": [],
      "authorship_tag": "ABX9TyMVhFsH+/3saKX9b/dPSaOm",
      "include_colab_link": true
    },
    "kernelspec": {
      "name": "python3",
      "display_name": "Python 3"
    },
    "language_info": {
      "name": "python"
    }
  },
  "cells": [
    {
      "cell_type": "markdown",
      "metadata": {
        "id": "view-in-github",
        "colab_type": "text"
      },
      "source": [
        "<a href=\"https://colab.research.google.com/github/ohjiae/Problems_Solving/blob/main/%EA%B3%B5%EB%B6%80%ED%95%84%EC%9A%941504_%ED%8A%B9%EC%A0%95%ED%95%9C_%EC%B5%9C%EB%8B%A8_%EA%B2%BD%EB%A1%9C.ipynb\" target=\"_parent\"><img src=\"https://colab.research.google.com/assets/colab-badge.svg\" alt=\"Open In Colab\"/></a>"
      ]
    },
    {
      "cell_type": "code",
      "execution_count": null,
      "metadata": {
        "id": "HvXdPlRjrENu"
      },
      "outputs": [],
      "source": [
        "# [1504번 : 물통](https://www.acmicpc.net/problem/1504)\n",
        "# 🙋‍♀️ 내 코드 \n",
        "\n",
        "\n",
        "\n",
        "# 🧑‍💻 다른 사람 코드 (https://smoothieking.tistory.com/17)\n",
        "\n",
        "import heapq\n",
        "import sys\n",
        "input = sys.stdin.readline\n",
        "INF = int(1e9)\n",
        "\n",
        "N, E = map(int, input().split())\n",
        "graph = [[] for _ in range(N+1)]\n",
        "\n",
        "for _ in range(E):\n",
        "    a,b,c = map(int, input().split())\n",
        "    graph[a].append((b,c))\n",
        "    graph[b].append((a,b))\n",
        "\n",
        "a, b = map(int,input().split())\n",
        "\n",
        "def dijkstra(start):\n",
        "    costs = [INF] * (N+1)\n",
        "    heap = []\n",
        "\n",
        "    heapq.heappush(heap,(0,start))\n",
        "    cost[start] = 0\n",
        "\n",
        "    while heap:\n",
        "        dist, now = heapq.heappop(heap)\n",
        "        if costs[now] < dist:\n",
        "            continue\n",
        "\n",
        "        for x in graph[now]:\n",
        "            cost = dist + x[1]\n",
        "\n",
        "            if cost < costs[x[0]]:\n",
        "                costs[x[0]] = cost\n",
        "                heapq.heappush(heap,(cost,x[0]))\n",
        "\n",
        "    return costs\n",
        "\n",
        "dist1 = dijkstra(1)\n",
        "dist2 = dijkstra(a)\n",
        "dist3 = dijkstra(b)\n",
        "\n",
        "ans = min(\n",
        "    dist1[a] + dist2[b] + dist3[n],\n",
        "    dist1[b] + dist3[a] + dist2[n]\n",
        ")\n",
        "\n",
        "print(answer if answer < INF else -1)"
      ]
    }
  ]
}