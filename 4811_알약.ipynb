{
  "nbformat": 4,
  "nbformat_minor": 0,
  "metadata": {
    "colab": {
      "name": "4811-알약.ipynb",
      "provenance": [],
      "collapsed_sections": [],
      "authorship_tag": "ABX9TyM2tkNZGO8frhYOaofQHR5a",
      "include_colab_link": true
    },
    "kernelspec": {
      "name": "python3",
      "display_name": "Python 3"
    },
    "language_info": {
      "name": "python"
    }
  },
  "cells": [
    {
      "cell_type": "markdown",
      "metadata": {
        "id": "view-in-github",
        "colab_type": "text"
      },
      "source": [
        "<a href=\"https://colab.research.google.com/github/ohjiae/Problems_Solving/blob/main/4811_%EC%95%8C%EC%95%BD.ipynb\" target=\"_parent\"><img src=\"https://colab.research.google.com/assets/colab-badge.svg\" alt=\"Open In Colab\"/></a>"
      ]
    },
    {
      "cell_type": "code",
      "execution_count": null,
      "metadata": {
        "colab": {
          "base_uri": "https://localhost:8080/"
        },
        "id": "08Fr00lFSgmh",
        "outputId": "d2841e17-9480-4abf-f04a-6db5152ed308"
      },
      "outputs": [
        {
          "name": "stdout",
          "output_type": "stream",
          "text": [
            "4\n",
            "WHWHWHWH 248\n",
            "2\n",
            "2\n",
            "WHWH 248\n",
            "0\n"
          ]
        }
      ],
      "source": [
        "# [4811번 - 알약](https://www.acmicpc.net/problem/4811)\n",
        "# 🙋‍♀️ 내 코드\n",
        "import itertools\n",
        "getLine(int(input()))\n",
        "def getLine(W):\n",
        "    H = W*2 # H 갯수 = W*2 = H일동안 복용\n",
        "    if W == 0 :\n",
        "        return None \n",
        "    else : \n",
        "        if W <= 2: \n",
        "            print(W)\n",
        "        else : \n",
        "            text = 'WH'*W-2\n",
        "            perm = itertools.permutations(text,2)\n",
        "            len_p = []\n",
        "            for i in perm:\n",
        "                len_p.append(i)\n",
        "        print(text,len(len_p))\n",
        "        getLine(int(input()))"
      ]
    },
    {
      "cell_type": "code",
      "source": [
        ""
      ],
      "metadata": {
        "id": "F8gO40hzjpgf"
      },
      "execution_count": null,
      "outputs": []
    }
  ]
}