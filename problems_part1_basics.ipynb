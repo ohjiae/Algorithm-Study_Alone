{
 "cells": [
  {
   "cell_type": "markdown",
   "id": "6b64ce13",
   "metadata": {},
   "source": [
    "# 백준 문제, 기본부터 최다 빈출 문제까지 풀기\n",
    " ## 준비운동 Part1. 튼튼한 기본기\n",
    "\n",
    "> 코딩테스트를 대비하며 여러 문제를 풀고자 합니다.\n",
    "코테 연습용 문제는 매우 많으므로, 좋은 문제들만 엄선한 포스팅을 따라 순서대로 풀겠습니다.\n",
    "이번에 따라할 문제 로드맵은 이곳입니다.\n",
    "[Covernant님 로드맵](https://covenant.tistory.com/224)\n",
    "\n",
    "### 1. 약수 구하기 (🥉 브론즈 3티어, [2501번](https://www.acmicpc.net/problem/2501))\n",
    "**문제**<br>\n",
    "어떤 자연수 p와 q가 있을 때, 만일 p를 q로 나누었을 때 나머지가 0이면 q는 p의 약수이다. \n",
    "6을 예로 들면 6의 약수는 1, 2, 3, 6, 총 네 개이다. \n",
    "두 개의 자연수 N과 K가 주어졌을 때, N의 약수들 중 K번째로 작은 수를 출력하는 프로그램을 작성하시오.\n",
    "\n",
    "**입력**<br>\n",
    "\n",
    "첫째 줄에 N과 K가 빈칸을 사이에 두고 주어진다. N은 1 이상 10,000 이하이다. K는 1 이상 N 이하이다.\n",
    "\n",
    "**출력**<br>\n",
    "첫째 줄에 N의 약수들 중 K번째로 작은 수를 출력한다. 만일 N의 약수의 개수가 K개보다 적어서 K번째 약수가 존재하지 않을 경우에는 0을 출력하시오.\n",
    "\n",
    "🙋‍♀️ 내 풀이"
   ]
  },
  {
   "cell_type": "code",
   "execution_count": null,
   "id": "e0802e08",
   "metadata": {},
   "outputs": [],
   "source": [
    "N, K = map(int,input().split())\n",
    "k_list = []\n",
    "for q in range(1,N+1):\n",
    "    if (N%q == 0) : k_list.append(q)\n",
    "try : print(k_list[K-1])\n",
    "except : print(0)"
   ]
  },
  {
   "cell_type": "markdown",
   "id": "c38d5c90",
   "metadata": {},
   "source": [
    "👩‍💻 다른 사람 풀이 [sane2710님] (https://www.acmicpc.net/source/14350609)"
   ]
  },
  {
   "cell_type": "code",
   "execution_count": null,
   "id": "cedb5354",
   "metadata": {},
   "outputs": [],
   "source": [
    "a, b = map(int, input().split())\n",
    "c = [i for i in range(1, a+1) if a%i==0]\n",
    "print(0 if len(c)<b else c[b-1])"
   ]
  },
  {
   "cell_type": "markdown",
   "id": "b769e189",
   "metadata": {},
   "source": [
    "### 2. 이진수 (🥉 브론즈 3티어, [3460번](https://www.acmicpc.net/problem/3460))\n",
    "**문제**<br>\n",
    "양의 정수 n이 주어졌을 때, 이를 이진수로 나타냈을 때 1의 위치를 모두 찾는 프로그램을 작성하시오. 최하위 비트(least significant bit, lsb)의 위치는 0이다.\n",
    "\n",
    "**입력**<br>\n",
    "첫째 줄에 테스트 케이스의 개수 T가 주어진다. 각 테스트 케이스는 한 줄로 이루어져 있고, n이 주어진다. (1 ≤ T ≤ 10, 1 ≤ n ≤ 106)\n",
    "\n",
    "**출력**<br>\n",
    "각 테스트 케이스에 대해서, 1의 위치를 공백으로 구분해서 줄 하나에 출력한다. 위치가 낮은 것부터 출력한다.\n",
    "\n",
    "🙋‍♀️ 내 풀이"
   ]
  },
  {
   "cell_type": "code",
   "execution_count": 35,
   "id": "84bbeb8d",
   "metadata": {
    "scrolled": true
   },
   "outputs": [
    {
     "name": "stdout",
     "output_type": "stream",
     "text": [
      "1\n",
      "13\n",
      "0 2 3 "
     ]
    }
   ],
   "source": [
    "T = int(input())\n",
    "for _ in range(T):\n",
    "    n = bin(int(input()))[2:]\n",
    "    for i in range(len(n)):\n",
    "        if n[::-1][i] == '1':\n",
    "            print(i, end = ' ')"
   ]
  },
  {
   "cell_type": "markdown",
   "id": "26ee6c8b",
   "metadata": {},
   "source": [
    "👩‍💻 다른 사람 풀이"
   ]
  },
  {
   "cell_type": "code",
   "execution_count": 34,
   "id": "b64f2bc2",
   "metadata": {},
   "outputs": [
    {
     "name": "stdout",
     "output_type": "stream",
     "text": [
      "1\n",
      "13\n",
      "0 2 3 "
     ]
    }
   ],
   "source": [
    "T = int(input())\n",
    "for _ in range(T):\n",
    "    n = bin(int(input()))[2:]\n",
    "    for i in range(len(n)):\n",
    "        if n[-i - 1] == '1':  # 이부분 다른 방법 (거꾸로 하나씩 세기)\n",
    "            print(i, end = ' ')\n"
   ]
  },
  {
   "cell_type": "markdown",
   "id": "b3daba12",
   "metadata": {},
   "source": [
    "### 3. 최소, 최대 (🥉 브론즈 3티어, [10818번](https://www.acmicpc.net/problem/10818))\n",
    "**문제**<br>\n",
    "N개의 정수가 주어진다. 이때, 최솟값과 최댓값을 구하는 프로그램을 작성하시오.\n",
    "\n",
    "**입력**<br>\n",
    "첫째 줄에 정수의 개수 N (1 ≤ N ≤ 1,000,000)이 주어진다. 둘째 줄에는 N개의 정수를 공백으로 구분해서 주어진다. 모든 정수는 -1,000,000보다 크거나 같고, 1,000,000보다 작거나 같은 정수이다.\n",
    "\n",
    "**출력**<br>\n",
    "첫째 줄에 주어진 정수 N개의 최솟값과 최댓값을 공백으로 구분해 출력한다.\n",
    "\n",
    "🙋‍♀️ 내 풀이"
   ]
  },
  {
   "cell_type": "code",
   "execution_count": 67,
   "id": "f6b1dec7",
   "metadata": {
    "collapsed": true
   },
   "outputs": [
    {
     "name": "stdout",
     "output_type": "stream",
     "text": [
      "5\n"
     ]
    },
    {
     "ename": "ValueError",
     "evalue": "min() arg is an empty sequence",
     "output_type": "error",
     "traceback": [
      "\u001b[1;31m---------------------------------------------------------------------------\u001b[0m",
      "\u001b[1;31mValueError\u001b[0m                                Traceback (most recent call last)",
      "\u001b[1;32mC:\\Users\\ADMINI~1\\AppData\\Local\\Temp/ipykernel_9676/169915831.py\u001b[0m in \u001b[0;36m<module>\u001b[1;34m\u001b[0m\n\u001b[0;32m      2\u001b[0m \u001b[0mN\u001b[0m \u001b[1;33m=\u001b[0m \u001b[0mint\u001b[0m\u001b[1;33m(\u001b[0m\u001b[0minput\u001b[0m\u001b[1;33m(\u001b[0m\u001b[1;33m)\u001b[0m\u001b[1;33m)\u001b[0m\u001b[1;33m\u001b[0m\u001b[1;33m\u001b[0m\u001b[0m\n\u001b[0;32m      3\u001b[0m \u001b[0mall\u001b[0m \u001b[1;33m=\u001b[0m \u001b[0mlist\u001b[0m\u001b[1;33m(\u001b[0m\u001b[0mmap\u001b[0m\u001b[1;33m(\u001b[0m\u001b[0mint\u001b[0m\u001b[1;33m,\u001b[0m\u001b[0mstdin\u001b[0m\u001b[1;33m.\u001b[0m\u001b[0mreadline\u001b[0m\u001b[1;33m(\u001b[0m\u001b[1;33m)\u001b[0m\u001b[1;33m.\u001b[0m\u001b[0msplit\u001b[0m\u001b[1;33m(\u001b[0m\u001b[1;33m)\u001b[0m\u001b[1;33m)\u001b[0m\u001b[1;33m)\u001b[0m\u001b[1;33m\u001b[0m\u001b[1;33m\u001b[0m\u001b[0m\n\u001b[1;32m----> 4\u001b[1;33m \u001b[0mprint\u001b[0m\u001b[1;33m(\u001b[0m\u001b[0mall\u001b[0m\u001b[1;33m,\u001b[0m\u001b[0mmin\u001b[0m\u001b[1;33m(\u001b[0m\u001b[0mall\u001b[0m\u001b[1;33m)\u001b[0m\u001b[1;33m,\u001b[0m \u001b[0mmax\u001b[0m\u001b[1;33m(\u001b[0m\u001b[0mall\u001b[0m\u001b[1;33m)\u001b[0m\u001b[1;33m)\u001b[0m\u001b[1;33m\u001b[0m\u001b[1;33m\u001b[0m\u001b[0m\n\u001b[0m\u001b[0;32m      5\u001b[0m \u001b[1;31m# 주피터는 오류지만 백준은 정답\u001b[0m\u001b[1;33m\u001b[0m\u001b[1;33m\u001b[0m\u001b[0m\n",
      "\u001b[1;31mValueError\u001b[0m: min() arg is an empty sequence"
     ]
    }
   ],
   "source": [
    "from sys import stdin\n",
    "N = int(input())\n",
    "all = list(map(int,stdin.readline().split()))\n",
    "print(all,min(all), max(all))\n",
    "# 주피터는 오류지만 백준은 정답"
   ]
  },
  {
   "cell_type": "markdown",
   "id": "5b1b878a",
   "metadata": {},
   "source": [
    "👩‍💻 다른 사람 풀이\n",
    "- 입력예시 \n",
    "5\n",
    "20 10 35 30 7\n",
    "\n",
    "📌 정수 갯수 N 받고, 밑에 한 줄의 정수들을 받을 때 유용한 코드 📌\n",
    "<br>`N, *L = map(int,sys.stdin.read().split())`\n",
    "\n",
    "✅ readline()은 내가한것처럼 list로 안감싸면 오류남.<br>\n",
    "✅ 그런데 이 경우 1줄이므로 리스트를 만들 필요 X"
   ]
  },
  {
   "cell_type": "code",
   "execution_count": null,
   "id": "80c8930d",
   "metadata": {},
   "outputs": [],
   "source": [
    "import sys\n",
    "_,*L=map(int,sys.stdin.read().split()) \n",
    "print(min(L),max(L))"
   ]
  },
  {
   "cell_type": "markdown",
   "id": "35be4a7f",
   "metadata": {},
   "source": [
    "### 4. 지능형 기차 2 (🥉 브론즈 3티어, [2460번](https://www.acmicpc.net/problem/2460))\n",
    "**문제** (문제가 길어, 링크 사이트에서 보는 것을 추천)<br>\n",
    "\n",
    "최근에 개발된 지능형 기차가 1번역(출발역)부터 10번역(종착역)까지 10개의 정차역이 있는 노선에서 운행되고 있다. 이 기차에는 타거나 내리는 사람 수를 자동으로 인식할 수 있는 장치가 있다. 이 장치를 이용하여 출발역에서 종착역까지 가는 도중 기차 안에 사람이 가장 많을 때의 사람 수를 계산하려고 한다. 단, 이 기차를 이용하는 사람들은 질서 의식이 투철하여, 역에서 기차에 탈 때, 내릴 사람이 모두 내린 후에 기차에 탄다고 가정한다.\n",
    "\n",
    "**입력**<br>\n",
    "각 역에서 내린 사람 수와 탄 사람 수가 빈칸을 사이에 두고 첫째 줄부터 열 번째 줄까지 역 순서대로 한 줄에 하나씩 주어진다.\n",
    "\n",
    "**출력**<br>\n",
    "첫째 줄에 최대 사람 수를 출력한다.  \n",
    "\n",
    "🙋‍♀️ 내 풀이"
   ]
  },
  {
   "cell_type": "code",
   "execution_count": null,
   "id": "7431c246",
   "metadata": {},
   "outputs": [],
   "source": [
    "import sys\n",
    "train = [0]\n",
    "for _ in range(10):\n",
    "    i,j = map(int,sys.stdin.readline().split())\n",
    "    train.append(train[-1] - i + j)\n",
    "print(max(train))"
   ]
  },
  {
   "cell_type": "markdown",
   "id": "f0ef2586",
   "metadata": {},
   "source": [
    "👩‍💻 다른 사람 풀이"
   ]
  },
  {
   "cell_type": "code",
   "execution_count": null,
   "id": "6daf3995",
   "metadata": {},
   "outputs": [],
   "source": [
    "import sys\n",
    "\n",
    "current=0\n",
    "maxpass=0\n",
    "for i in range(10):\n",
    "    A,B=map(int,sys.stdin.readline().split())\n",
    "    current-=A\n",
    "    current+=B\n",
    "    if maxpass<current : maxpass=current\n",
    "print(maxpass)"
   ]
  },
  {
   "cell_type": "markdown",
   "id": "8625a00b",
   "metadata": {},
   "source": [
    "비슷해보이는데..  52ms로 내코드(72ms)보다 빠르다! \n",
    "이사람거는 바로바로 비교해서 교체하니까 maxpass에 값이 하나만 남는데, \n",
    "내거는 append라서그런가..?"
   ]
  },
  {
   "cell_type": "markdown",
   "id": "5a869804",
   "metadata": {},
   "source": [
    "~~위를 토대로 고치면 빨라질까?~~ ❌❌ 느려짐.. 76ms"
   ]
  },
  {
   "cell_type": "code",
   "execution_count": null,
   "id": "07fe8566",
   "metadata": {},
   "outputs": [],
   "source": [
    "import sys\n",
    "train = 0\n",
    "max_n = 0\n",
    "for _ in range(10):\n",
    "    i,j = map(int,sys.stdin.readline().split())\n",
    "    train = train-i+j\n",
    "    if max_n<train : max_n = train\n",
    "print(max_n)"
   ]
  },
  {
   "cell_type": "markdown",
   "id": "cb9998c3",
   "metadata": {},
   "source": [
    "### 5. 피보나치 수 5 (🥉 브론즈 2티어, [10870번](https://www.acmicpc.net/problem/10870))\n",
    "**문제**<br>\n",
    "피보나치 수는 0과 1로 시작한다. 0번째 피보나치 수는 0이고, 1번째 피보나치 수는 1이다. 그 다음 2번째 부터는 바로 앞 두 피보나치 수의 합이 된다.\n",
    "\n",
    "이를 식으로 써보면 Fn = Fn-1 + Fn-2 (n ≥ 2)가 된다.\n",
    "\n",
    "n=17일때 까지 피보나치 수를 써보면 다음과 같다.\n",
    "\n",
    "0, 1, 1, 2, 3, 5, 8, 13, 21, 34, 55, 89, 144, 233, 377, 610, 987, 1597\n",
    "\n",
    "n이 주어졌을 때, n번째 피보나치 수를 구하는 프로그램을 작성하시오.\n",
    "\n",
    "**입력**<br>\n",
    "첫째 줄에 n이 주어진다. n은 20보다 작거나 같은 자연수 또는 0이다\n",
    "\n",
    "**출력**<br>\n",
    "첫째 줄에 n번째 피보나치 수를 출력한다.\n",
    "\n",
    "\n",
    "🙋‍♀️ 내 풀이"
   ]
  },
  {
   "cell_type": "code",
   "execution_count": null,
   "id": "fddb1a5a",
   "metadata": {},
   "outputs": [],
   "source": [
    "for i in range(int(input()))"
   ]
  },
  {
   "cell_type": "markdown",
   "id": "7f9691cc",
   "metadata": {},
   "source": [
    "👩‍💻 다른 사람 풀이"
   ]
  },
  {
   "cell_type": "code",
   "execution_count": null,
   "id": "b4fc185b",
   "metadata": {},
   "outputs": [],
   "source": []
  },
  {
   "cell_type": "markdown",
   "id": "11ab93e8",
   "metadata": {},
   "source": [
    "### 6. 일곱 난쟁이 (🥉 브론즈 2티어, [2309번](https://www.acmicpc.net/problem/2309))\n",
    "**문제**<br>\n",
    "\n",
    "**입력**<br>\n",
    "\n",
    "**출력**<br>\n",
    "\n",
    "🙋‍♀️ 내 풀이"
   ]
  },
  {
   "cell_type": "code",
   "execution_count": null,
   "id": "82c4e417",
   "metadata": {},
   "outputs": [],
   "source": []
  },
  {
   "cell_type": "markdown",
   "id": "7dca5e31",
   "metadata": {},
   "source": [
    "👩‍💻 다른 사람 풀이"
   ]
  },
  {
   "cell_type": "code",
   "execution_count": null,
   "id": "79967124",
   "metadata": {},
   "outputs": [],
   "source": []
  },
  {
   "cell_type": "markdown",
   "id": "bb598d6e",
   "metadata": {},
   "source": [
    "### 7. 최대공약수와 최소공배수 (🥈실버 5티어, [2609번](https://www.acmicpc.net/problem/2609))\n",
    "**문제**<br>\n",
    "\n",
    "**입력**<br>\n",
    "\n",
    "**출력**<br>\n",
    "\n",
    "🙋‍♀️ 내 풀이"
   ]
  },
  {
   "cell_type": "code",
   "execution_count": null,
   "id": "3e54a6de",
   "metadata": {},
   "outputs": [],
   "source": []
  },
  {
   "cell_type": "markdown",
   "id": "dc22abbe",
   "metadata": {},
   "source": [
    "👩‍💻 다른 사람 풀이"
   ]
  },
  {
   "cell_type": "code",
   "execution_count": null,
   "id": "88d0f8fb",
   "metadata": {},
   "outputs": [],
   "source": []
  },
  {
   "cell_type": "markdown",
   "id": "438d838b",
   "metadata": {},
   "source": [
    "### 8. N번째 큰 수 (🥈실버 5티어, [2693번](https://www.acmicpc.net/problem/2693))\n",
    "**문제**<br>\n",
    "\n",
    "**입력**<br>\n",
    "\n",
    "**출력**<br>\n",
    "\n",
    "🙋‍♀️ 내 풀이"
   ]
  },
  {
   "cell_type": "code",
   "execution_count": null,
   "id": "dd728ccc",
   "metadata": {},
   "outputs": [],
   "source": []
  },
  {
   "cell_type": "markdown",
   "id": "c2bd0393",
   "metadata": {},
   "source": [
    "👩‍💻 다른 사람 풀이"
   ]
  },
  {
   "cell_type": "code",
   "execution_count": null,
   "id": "1ad20ccb",
   "metadata": {},
   "outputs": [],
   "source": []
  },
  {
   "cell_type": "markdown",
   "id": "192a801d",
   "metadata": {},
   "source": [
    "### 9. 소수 찾기 (🥈실버 4티어, [1978번](https://www.acmicpc.net/problem/1978))\n",
    "**문제**<br>\n",
    "\n",
    "**입력**<br>\n",
    "\n",
    "**출력**<br>\n",
    "\n",
    "🙋‍♀️ 내 풀이"
   ]
  },
  {
   "cell_type": "code",
   "execution_count": null,
   "id": "6af370f1",
   "metadata": {},
   "outputs": [],
   "source": []
  },
  {
   "cell_type": "markdown",
   "id": "a8a4f1da",
   "metadata": {},
   "source": [
    "👩‍💻 다른 사람 풀이"
   ]
  },
  {
   "cell_type": "code",
   "execution_count": null,
   "id": "e9cf55a3",
   "metadata": {},
   "outputs": [],
   "source": []
  },
  {
   "cell_type": "markdown",
   "id": "f760ec5b",
   "metadata": {},
   "source": [
    "### 10. 쉽게 푸는 문제 (🥈실버 4티어, [1292번](https://www.acmicpc.net/problem/1292))\n",
    "**문제**<br>\n",
    "\n",
    "**입력**<br>\n",
    "\n",
    "**출력**<br>\n",
    "\n",
    "🙋‍♀️ 내 풀이"
   ]
  },
  {
   "cell_type": "code",
   "execution_count": null,
   "id": "b54a09e1",
   "metadata": {},
   "outputs": [],
   "source": []
  },
  {
   "cell_type": "markdown",
   "id": "377dcb82",
   "metadata": {},
   "source": [
    "👩‍💻 다른 사람 풀이"
   ]
  },
  {
   "cell_type": "code",
   "execution_count": null,
   "id": "55d24f20",
   "metadata": {},
   "outputs": [],
   "source": []
  },
  {
   "cell_type": "markdown",
   "id": "0fad7087",
   "metadata": {},
   "source": [
    "### 11. 소수 (🥈실버 4티어, [2581번](https://www.acmicpc.net/problem/2581))\n",
    "**문제**<br>\n",
    "\n",
    "**입력**<br>\n",
    "\n",
    "**출력**<br>\n",
    "\n",
    "🙋‍♀️ 내 풀이"
   ]
  },
  {
   "cell_type": "code",
   "execution_count": null,
   "id": "baf7f460",
   "metadata": {},
   "outputs": [],
   "source": []
  },
  {
   "cell_type": "markdown",
   "id": "b565f5c8",
   "metadata": {},
   "source": [
    "👩‍💻 다른 사람 풀이"
   ]
  },
  {
   "cell_type": "code",
   "execution_count": null,
   "id": "b9c78f40",
   "metadata": {},
   "outputs": [],
   "source": []
  }
 ],
 "metadata": {
  "kernelspec": {
   "display_name": "Python 3 (ipykernel)",
   "language": "python",
   "name": "python3"
  },
  "language_info": {
   "codemirror_mode": {
    "name": "ipython",
    "version": 3
   },
   "file_extension": ".py",
   "mimetype": "text/x-python",
   "name": "python",
   "nbconvert_exporter": "python",
   "pygments_lexer": "ipython3",
   "version": "3.9.7"
  }
 },
 "nbformat": 4,
 "nbformat_minor": 5
}
