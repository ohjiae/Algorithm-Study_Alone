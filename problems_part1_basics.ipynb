{
  "cells": [
    {
      "cell_type": "markdown",
      "id": "6b64ce13",
      "metadata": {
        "id": "6b64ce13"
      },
      "source": [
        "# 백준 문제, 기본부터 최다 빈출 문제까지 풀기\n",
        " ## 준비운동 Part1. 튼튼한 기본기\n",
        "\n",
        "> 코딩테스트를 대비하며 여러 문제를 풀고자 합니다.\n",
        "코테 연습용 문제는 매우 많으므로, 좋은 문제들만 엄선한 포스팅을 따라 순서대로 풀겠습니다.\n",
        "이번에 따라할 문제 로드맵은 이곳입니다.\n",
        "[Covernant님 로드맵](https://covenant.tistory.com/224)\n",
        "\n",
        "### 1. 약수 구하기 (🥉 브론즈 3티어, [2501번](https://www.acmicpc.net/problem/2501))\n",
        "**문제**<br>\n",
        "어떤 자연수 p와 q가 있을 때, 만일 p를 q로 나누었을 때 나머지가 0이면 q는 p의 약수이다. \n",
        "6을 예로 들면 6의 약수는 1, 2, 3, 6, 총 네 개이다. \n",
        "두 개의 자연수 N과 K가 주어졌을 때, N의 약수들 중 K번째로 작은 수를 출력하는 프로그램을 작성하시오.\n",
        "\n",
        "**입력**<br>\n",
        "\n",
        "첫째 줄에 N과 K가 빈칸을 사이에 두고 주어진다. N은 1 이상 10,000 이하이다. K는 1 이상 N 이하이다.\n",
        "\n",
        "**출력**<br>\n",
        "첫째 줄에 N의 약수들 중 K번째로 작은 수를 출력한다. 만일 N의 약수의 개수가 K개보다 적어서 K번째 약수가 존재하지 않을 경우에는 0을 출력하시오.\n",
        "\n",
        "🙋‍♀️ 내 풀이"
      ]
    },
    {
      "cell_type": "code",
      "execution_count": null,
      "id": "e0802e08",
      "metadata": {
        "id": "e0802e08"
      },
      "outputs": [],
      "source": [
        "N, K = map(int,input().split())\n",
        "k_list = []\n",
        "for q in range(1,N+1):\n",
        "    if (N%q == 0) : k_list.append(q)\n",
        "try : print(k_list[K-1])\n",
        "except : print(0)"
      ]
    },
    {
      "cell_type": "markdown",
      "id": "c38d5c90",
      "metadata": {
        "id": "c38d5c90"
      },
      "source": [
        "👩‍💻 다른 사람 풀이 [sane2710님] (https://www.acmicpc.net/source/14350609)"
      ]
    },
    {
      "cell_type": "code",
      "execution_count": null,
      "id": "cedb5354",
      "metadata": {
        "id": "cedb5354"
      },
      "outputs": [],
      "source": [
        "a, b = map(int, input().split())\n",
        "c = [i for i in range(1, a+1) if a%i==0]\n",
        "print(0 if len(c)<b else c[b-1])"
      ]
    },
    {
      "cell_type": "markdown",
      "id": "b769e189",
      "metadata": {
        "id": "b769e189"
      },
      "source": [
        "### 2. 이진수 (🥉 브론즈 3티어, [3460번](https://www.acmicpc.net/problem/3460))\n",
        "**문제**<br>\n",
        "양의 정수 n이 주어졌을 때, 이를 이진수로 나타냈을 때 1의 위치를 모두 찾는 프로그램을 작성하시오. 최하위 비트(least significant bit, lsb)의 위치는 0이다.\n",
        "\n",
        "**입력**<br>\n",
        "첫째 줄에 테스트 케이스의 개수 T가 주어진다. 각 테스트 케이스는 한 줄로 이루어져 있고, n이 주어진다. (1 ≤ T ≤ 10, 1 ≤ n ≤ 106)\n",
        "\n",
        "**출력**<br>\n",
        "각 테스트 케이스에 대해서, 1의 위치를 공백으로 구분해서 줄 하나에 출력한다. 위치가 낮은 것부터 출력한다.\n",
        "\n",
        "🙋‍♀️ 내 풀이"
      ]
    },
    {
      "cell_type": "code",
      "execution_count": null,
      "id": "84bbeb8d",
      "metadata": {
        "scrolled": true,
        "id": "84bbeb8d",
        "outputId": "8384bed5-8ea1-4926-b85c-b966823ffb72"
      },
      "outputs": [
        {
          "name": "stdout",
          "output_type": "stream",
          "text": [
            "1\n",
            "13\n",
            "0 2 3 "
          ]
        }
      ],
      "source": [
        "T = int(input())\n",
        "for _ in range(T):\n",
        "    n = bin(int(input()))[2:]\n",
        "    for i in range(len(n)):\n",
        "        if n[::-1][i] == '1':\n",
        "            print(i, end = ' ')"
      ]
    },
    {
      "cell_type": "markdown",
      "id": "26ee6c8b",
      "metadata": {
        "id": "26ee6c8b"
      },
      "source": [
        "👩‍💻 다른 사람 풀이"
      ]
    },
    {
      "cell_type": "code",
      "execution_count": null,
      "id": "b64f2bc2",
      "metadata": {
        "id": "b64f2bc2",
        "outputId": "58a0814d-fd1c-4e0f-caf7-9bacfe708956"
      },
      "outputs": [
        {
          "name": "stdout",
          "output_type": "stream",
          "text": [
            "1\n",
            "13\n",
            "0 2 3 "
          ]
        }
      ],
      "source": [
        "T = int(input())\n",
        "for _ in range(T):\n",
        "    n = bin(int(input()))[2:]\n",
        "    for i in range(len(n)):\n",
        "        if n[-i - 1] == '1':  # 이부분 다른 방법 (거꾸로 하나씩 세기)\n",
        "            print(i, end = ' ')\n"
      ]
    },
    {
      "cell_type": "markdown",
      "id": "b3daba12",
      "metadata": {
        "id": "b3daba12"
      },
      "source": [
        "### 3. 최소, 최대 (🥉 브론즈 3티어, [10818번](https://www.acmicpc.net/problem/10818))\n",
        "**문제**<br>\n",
        "N개의 정수가 주어진다. 이때, 최솟값과 최댓값을 구하는 프로그램을 작성하시오.\n",
        "\n",
        "**입력**<br>\n",
        "첫째 줄에 정수의 개수 N (1 ≤ N ≤ 1,000,000)이 주어진다. 둘째 줄에는 N개의 정수를 공백으로 구분해서 주어진다. 모든 정수는 -1,000,000보다 크거나 같고, 1,000,000보다 작거나 같은 정수이다.\n",
        "\n",
        "**출력**<br>\n",
        "첫째 줄에 주어진 정수 N개의 최솟값과 최댓값을 공백으로 구분해 출력한다.\n",
        "\n",
        "🙋‍♀️ 내 풀이"
      ]
    },
    {
      "cell_type": "code",
      "source": [
        "from sys import stdin\n",
        "N = int(input())\n",
        "all = list(map(int,stdin.readline().split()))\n",
        "print(all,min(all), max(all))\n",
        "# 주피터는 오류지만 백준은 정답"
      ],
      "metadata": {
        "id": "2TPRmNfkrKhG"
      },
      "id": "2TPRmNfkrKhG",
      "execution_count": null,
      "outputs": []
    },
    {
      "cell_type": "markdown",
      "id": "5b1b878a",
      "metadata": {
        "id": "5b1b878a"
      },
      "source": [
        "👩‍💻 다른 사람 풀이 [jakekr님](https://www.acmicpc.net/source/30489297)"
      ]
    },
    {
      "cell_type": "code",
      "source": [
        "import sys\n",
        "_, *n = map(int, sys.stdin.read().split())\n",
        "print(min(n),max(n))"
      ],
      "metadata": {
        "id": "kdz036cnrLrS"
      },
      "id": "kdz036cnrLrS",
      "execution_count": null,
      "outputs": []
    },
    {
      "cell_type": "markdown",
      "metadata": {
        "id": "9NoK_6DcrMdn"
      },
      "source": [
        "📌 정수 갯수 N 받고, 밑에 한 줄의 정수들을 받을 때 유용한 코드 📌\n",
        "<br>`N, *L = map(int,sys.stdin.read().split())`\n",
        "\n",
        "✅ readline()은 내가한것처럼 list로 안감싸면 오류남.<br>\n",
        "✅ 그런데 이 경우 1줄이므로 리스트를 만들 필요 X"
      ],
      "id": "9NoK_6DcrMdn"
    },
    {
      "cell_type": "code",
      "execution_count": null,
      "id": "80c8930d",
      "metadata": {
        "id": "80c8930d"
      },
      "outputs": [],
      "source": [
        "import sys\n",
        "_,*L=map(int,sys.stdin.read().split()) \n",
        "print(min(L),max(L))"
      ]
    },
    {
      "cell_type": "markdown",
      "id": "35be4a7f",
      "metadata": {
        "id": "35be4a7f"
      },
      "source": [
        "### 4. 지능형 기차 2 (🥉 브론즈 3티어, [2460번](https://www.acmicpc.net/problem/2460))\n",
        "**문제** (문제가 길어, 링크 사이트에서 보는 것을 추천)<br>\n",
        "\n",
        "최근에 개발된 지능형 기차가 1번역(출발역)부터 10번역(종착역)까지 10개의 정차역이 있는 노선에서 운행되고 있다. 이 기차에는 타거나 내리는 사람 수를 자동으로 인식할 수 있는 장치가 있다. 이 장치를 이용하여 출발역에서 종착역까지 가는 도중 기차 안에 사람이 가장 많을 때의 사람 수를 계산하려고 한다. 단, 이 기차를 이용하는 사람들은 질서 의식이 투철하여, 역에서 기차에 탈 때, 내릴 사람이 모두 내린 후에 기차에 탄다고 가정한다.\n",
        "\n",
        "**입력**<br>\n",
        "각 역에서 내린 사람 수와 탄 사람 수가 빈칸을 사이에 두고 첫째 줄부터 열 번째 줄까지 역 순서대로 한 줄에 하나씩 주어진다.\n",
        "\n",
        "**출력**<br>\n",
        "첫째 줄에 최대 사람 수를 출력한다.  \n",
        "\n",
        "🙋‍♀️ 내 풀이"
      ]
    },
    {
      "cell_type": "code",
      "execution_count": null,
      "id": "7431c246",
      "metadata": {
        "id": "7431c246"
      },
      "outputs": [],
      "source": [
        "import sys\n",
        "train = [0]\n",
        "for _ in range(10):\n",
        "    i,j = map(int,sys.stdin.readline().split())\n",
        "    train.append(train[-1] - i + j)\n",
        "print(max(train))"
      ]
    },
    {
      "cell_type": "markdown",
      "id": "f0ef2586",
      "metadata": {
        "id": "f0ef2586"
      },
      "source": [
        "👩‍💻 다른 사람 풀이 [rlagusdn1234님](https://www.acmicpc.net/source/18123795)\n"
      ]
    },
    {
      "cell_type": "code",
      "execution_count": null,
      "id": "6daf3995",
      "metadata": {
        "id": "6daf3995"
      },
      "outputs": [],
      "source": [
        "import sys\n",
        "\n",
        "current=0\n",
        "maxpass=0\n",
        "for i in range(10):\n",
        "    A,B=map(int,sys.stdin.readline().split())\n",
        "    current-=A\n",
        "    current+=B\n",
        "    if maxpass<current : maxpass=current\n",
        "print(maxpass)"
      ]
    },
    {
      "cell_type": "markdown",
      "id": "8625a00b",
      "metadata": {
        "id": "8625a00b"
      },
      "source": [
        "비슷해보이는데..  52ms로 내코드(72ms)보다 빠르다! \n",
        "이사람거는 바로바로 비교해서 교체하니까 maxpass에 값이 하나만 남는데, \n",
        "내거는 append라서그런가..?"
      ]
    },
    {
      "cell_type": "markdown",
      "id": "5a869804",
      "metadata": {
        "id": "5a869804"
      },
      "source": [
        "~~위를 토대로 고치면 빨라질까?~~ ❌❌ 느려짐.. 76ms"
      ]
    },
    {
      "cell_type": "code",
      "execution_count": null,
      "id": "07fe8566",
      "metadata": {
        "id": "07fe8566"
      },
      "outputs": [],
      "source": [
        "import sys\n",
        "train = 0\n",
        "max_n = 0\n",
        "for _ in range(10):\n",
        "    i,j = map(int,sys.stdin.readline().split())\n",
        "    train = train-i+j\n",
        "    if max_n<train : max_n = train\n",
        "print(max_n)"
      ]
    },
    {
      "cell_type": "markdown",
      "id": "cb9998c3",
      "metadata": {
        "id": "cb9998c3"
      },
      "source": [
        "### 5. 피보나치 수 5 (🥉 브론즈 2티어, [10870번](https://www.acmicpc.net/problem/10870))\n",
        "**문제**<br>\n",
        "피보나치 수는 0과 1로 시작한다. 0번째 피보나치 수는 0이고, 1번째 피보나치 수는 1이다. 그 다음 2번째 부터는 바로 앞 두 피보나치 수의 합이 된다.\n",
        "\n",
        "이를 식으로 써보면 Fn = Fn-1 + Fn-2 (n ≥ 2)가 된다.\n",
        "\n",
        "n=17일때 까지 피보나치 수를 써보면 다음과 같다.\n",
        "\n",
        "0, 1, 1, 2, 3, 5, 8, 13, 21, 34, 55, 89, 144, 233, 377, 610, 987, 1597\n",
        "\n",
        "n이 주어졌을 때, n번째 피보나치 수를 구하는 프로그램을 작성하시오.\n",
        "\n",
        "**입력**<br>\n",
        "첫째 줄에 n이 주어진다. n은 20보다 작거나 같은 자연수 또는 0이다\n",
        "\n",
        "**출력**<br>\n",
        "첫째 줄에 n번째 피보나치 수를 출력한다.\n",
        "\n",
        "\n",
        "🙋‍♀️ 내 풀이\n",
        "\n",
        "처음에 이렇게 했는데 백준에서 틀렸다고 했다..\n",
        "근데 코랩으로 돌려보면 옳은 피보나치수가 나온다.. 0번은 틀리지만.. 1번부턴 맞는데 그래서 틀린걸까?"
      ]
    },
    {
      "cell_type": "code",
      "execution_count": 9,
      "id": "fddb1a5a",
      "metadata": {
        "id": "fddb1a5a",
        "outputId": "14ba8cb5-7dcf-49c7-c937-234c368d005e",
        "colab": {
          "base_uri": "https://localhost:8080/"
        }
      },
      "outputs": [
        {
          "output_type": "stream",
          "name": "stdout",
          "text": [
            "10\n",
            "55\n"
          ]
        }
      ],
      "source": [
        "n = int(input())\n",
        "fib = [0,1]\n",
        "for i in range(2,n+1):\n",
        "    num = fib[i-1]+fib[i-2]\n",
        "    fib.append(num)\n",
        "print(fib[n])"
      ]
    },
    {
      "cell_type": "markdown",
      "source": [
        "그래서 고쳤다. 이거는 정답이다."
      ],
      "metadata": {
        "id": "hQ84QTA-qY3j"
      },
      "id": "hQ84QTA-qY3j"
    },
    {
      "cell_type": "code",
      "source": [
        "n = int(input())\n",
        "fib = [0,1]\n",
        "for i in range(2,n+1):\n",
        "    num = fib[i-1]+fib[i-2]\n",
        "    fib.append(num)\n",
        "print(fib[n])"
      ],
      "metadata": {
        "id": "WlyGzQA-qctF"
      },
      "id": "WlyGzQA-qctF",
      "execution_count": null,
      "outputs": []
    },
    {
      "cell_type": "markdown",
      "id": "7f9691cc",
      "metadata": {
        "id": "7f9691cc"
      },
      "source": [
        "👩‍💻 다른 사람 풀이\n",
        "\n",
        "내가 하려던 코드와 가장 가까운 코드 [izeus12님](https://www.acmicpc.net/source/15405369)"
      ]
    },
    {
      "cell_type": "code",
      "execution_count": null,
      "id": "b4fc185b",
      "metadata": {
        "id": "b4fc185b"
      },
      "outputs": [],
      "source": [
        "def p(n):\n",
        "    x=0\n",
        "    y=1\n",
        "    for i in range(n):\n",
        "        x,y=y,x+y;\n",
        "    return x\n",
        "a=int(input())\n",
        "print(p(a))"
      ]
    },
    {
      "cell_type": "markdown",
      "source": [
        "재귀 함수를 활용한 코드. 매우 클레버...🤓✨ [whilescape](https://www.acmicpc.net/source/17200282)"
      ],
      "metadata": {
        "id": "oTxqdCbcqAH0"
      },
      "id": "oTxqdCbcqAH0"
    },
    {
      "cell_type": "code",
      "source": [
        "def r(x):\n",
        "    if x < 2: return x\n",
        "    return r(x-1)+r(x-2)\n",
        "print(r(int(input())))"
      ],
      "metadata": {
        "id": "pFHj8BFqqLxh"
      },
      "id": "pFHj8BFqqLxh",
      "execution_count": null,
      "outputs": []
    },
    {
      "cell_type": "markdown",
      "id": "11ab93e8",
      "metadata": {
        "id": "11ab93e8"
      },
      "source": [
        "### 6. 일곱 난쟁이 (🥉 브론즈 2티어, [2309번](https://www.acmicpc.net/problem/2309))\n",
        "**문제**<br>\n",
        "왕비를 피해 일곱 난쟁이들과 함께 평화롭게 생활하고 있던 백설공주에게 위기가 찾아왔다. 일과를 마치고 돌아온 난쟁이가 일곱 명이 아닌 아홉 명이었던 것이다.\n",
        "\n",
        "아홉 명의 난쟁이는 모두 자신이 \"백설 공주와 일곱 난쟁이\"의 주인공이라고 주장했다. 뛰어난 수학적 직관력을 가지고 있던 백설공주는, 다행스럽게도 일곱 난쟁이의 키의 합이 100이 됨을 기억해 냈다.\n",
        "\n",
        "아홉 난쟁이의 키가 주어졌을 때, 백설공주를 도와 일곱 난쟁이를 찾는 프로그램을 작성하시오.\n",
        "\n",
        "**입력**<br>\n",
        "아홉 개의 줄에 걸쳐 난쟁이들의 키가 주어진다. 주어지는 키는 100을 넘지 않는 자연수이며, 아홉 난쟁이의 키는 모두 다르며, 가능한 정답이 여러 가지인 경우에는 아무거나 출력한다.\n",
        "\n",
        "**출력**<br>\n",
        "일곱 난쟁이의 키를 오름차순으로 출력한다. 일곱 난쟁이를 찾을 수 없는 경우는 없다.\n",
        "\n",
        "🙋‍♀️ 내 풀이\n"
      ]
    },
    {
      "cell_type": "code",
      "execution_count": null,
      "id": "82c4e417",
      "metadata": {
        "id": "82c4e417"
      },
      "outputs": [],
      "source": [
        ""
      ]
    },
    {
      "cell_type": "markdown",
      "id": "7dca5e31",
      "metadata": {
        "id": "7dca5e31"
      },
      "source": [
        "👩‍💻 다른 사람 풀이"
      ]
    },
    {
      "cell_type": "code",
      "execution_count": null,
      "id": "79967124",
      "metadata": {
        "id": "79967124"
      },
      "outputs": [],
      "source": [
        ""
      ]
    },
    {
      "cell_type": "markdown",
      "id": "bb598d6e",
      "metadata": {
        "id": "bb598d6e"
      },
      "source": [
        "### 7. 최대공약수와 최소공배수 (🥈실버 5티어, [2609번](https://www.acmicpc.net/problem/2609))\n",
        "**문제**<br>\n",
        "두 개의 자연수를 입력받아 최대 공약수와 최소 공배수를 출력하는 프로그램을 작성하시오.\n",
        "\n",
        "**입력**<br>\n",
        "첫째 줄에는 두 개의 자연수가 주어진다. 이 둘은 10,000이하의 자연수이며 사이에 한 칸의 공백이 주어진다.\n",
        "\n",
        "**출력**<br>\n",
        "첫째 줄에는 입력으로 주어진 두 수의 최대공약수를, 둘째 줄에는 입력으로 주어진 두 수의 최소 공배수를 출력한다.\n",
        "\n",
        "🙋‍♀️ 내 풀이"
      ]
    },
    {
      "cell_type": "code",
      "execution_count": null,
      "id": "3e54a6de",
      "metadata": {
        "id": "3e54a6de"
      },
      "outputs": [],
      "source": [
        ""
      ]
    },
    {
      "cell_type": "markdown",
      "id": "dc22abbe",
      "metadata": {
        "id": "dc22abbe"
      },
      "source": [
        "👩‍💻 다른 사람 풀이"
      ]
    },
    {
      "cell_type": "code",
      "execution_count": null,
      "id": "88d0f8fb",
      "metadata": {
        "id": "88d0f8fb"
      },
      "outputs": [],
      "source": [
        ""
      ]
    },
    {
      "cell_type": "markdown",
      "id": "438d838b",
      "metadata": {
        "id": "438d838b"
      },
      "source": [
        "### 8. N번째 큰 수 (🥈실버 5티어, [2693번](https://www.acmicpc.net/problem/2693))\n",
        "**문제**<br>\n",
        "배열 A가 주어졌을 때, N번째 큰 값을 출력하는 프로그램을 작성하시오.\n",
        "\n",
        "배열 A의 크기는 항상 10이고, 자연수만 가지고 있다. N은 항상 3이다.\n",
        "\n",
        "**입력**<br>\n",
        "첫째 줄에 테스트 케이스의 개수 T(1 ≤ T ≤ 1,000)가 주어진다. 각 테스트 케이스는 한 줄로 이루어져 있고, 배열 A의 원소 10개가 공백으로 구분되어 주어진다. 이 원소는 1보다 크거나 같고, 1,000보다 작거나 같은 자연수이다.\n",
        "\n",
        "**출력**<br>\n",
        "각 테스트 케이스에 대해 한 줄에 하나씩 배열 A에서 3번째 큰 값을 출력한다.\n",
        "\n",
        "\n",
        "🙋‍♀️ 내 풀이"
      ]
    },
    {
      "cell_type": "code",
      "execution_count": null,
      "id": "dd728ccc",
      "metadata": {
        "id": "dd728ccc"
      },
      "outputs": [],
      "source": [
        ""
      ]
    },
    {
      "cell_type": "markdown",
      "id": "c2bd0393",
      "metadata": {
        "id": "c2bd0393"
      },
      "source": [
        "👩‍💻 다른 사람 풀이"
      ]
    },
    {
      "cell_type": "code",
      "execution_count": null,
      "id": "1ad20ccb",
      "metadata": {
        "id": "1ad20ccb"
      },
      "outputs": [],
      "source": [
        ""
      ]
    },
    {
      "cell_type": "markdown",
      "id": "192a801d",
      "metadata": {
        "id": "192a801d"
      },
      "source": [
        "### 9. 소수 찾기 (🥈실버 4티어, [1978번](https://www.acmicpc.net/problem/1978))\n",
        "**문제**<br>\n",
        "주어진 수 N개 중에서 소수가 몇 개인지 찾아서 출력하는 프로그램을 작성하시오.\n",
        "\n",
        "**입력**<br>\n",
        "첫 줄에 수의 개수 N이 주어진다. N은 100이하이다. 다음으로 N개의 수가 주어지는데 수는 1,000 이하의 자연수이다.\n",
        "\n",
        "**출력**<br>\n",
        "주어진 수들 중 소수의 개수를 출력한다.\n",
        "\n",
        "🙋‍♀️ 내 풀이"
      ]
    },
    {
      "cell_type": "code",
      "execution_count": null,
      "id": "6af370f1",
      "metadata": {
        "id": "6af370f1"
      },
      "outputs": [],
      "source": [
        ""
      ]
    },
    {
      "cell_type": "markdown",
      "id": "a8a4f1da",
      "metadata": {
        "id": "a8a4f1da"
      },
      "source": [
        "👩‍💻 다른 사람 풀이"
      ]
    },
    {
      "cell_type": "code",
      "execution_count": null,
      "id": "e9cf55a3",
      "metadata": {
        "id": "e9cf55a3"
      },
      "outputs": [],
      "source": [
        ""
      ]
    },
    {
      "cell_type": "markdown",
      "id": "f760ec5b",
      "metadata": {
        "id": "f760ec5b"
      },
      "source": [
        "### 10. 쉽게 푸는 문제 (🥈실버 4티어, [1292번](https://www.acmicpc.net/problem/1292))\n",
        "**문제**<br>\n",
        "동호는 내년에 초등학교를 입학한다. 그래서 동호 어머니는 수학 선행 학습을 위해 쉽게 푸는 문제를 동호에게 주었다.\n",
        "\n",
        "이 문제는 다음과 같다. 1을 한 번, 2를 두 번, 3을 세 번, 이런 식으로 1 2 2 3 3 3 4 4 4 4 5 .. 이러한 수열을 만들고 어느 일정한 구간을 주면 그 구간의 합을 구하는 것이다.\n",
        "\n",
        "하지만 동호는 현재 더 어려운 문제를 푸느라 바쁘기에 우리가 동호를 도와주자.\n",
        "\n",
        "**입력**<br>\n",
        "첫째 줄에 구간의 시작과 끝을 나타내는 정수 A, B(1 ≤ A ≤ B ≤ 1,000)가 주어진다. 즉, 수열에서 A번째 숫자부터 B번째 숫자까지 합을 구하면 된다.\n",
        "\n",
        "**출력**<br>\n",
        "첫 줄에 구간에 속하는 숫자의 합을 출력한다.\n",
        "\n",
        "🙋‍♀️ 내 풀이"
      ]
    },
    {
      "cell_type": "code",
      "execution_count": null,
      "id": "b54a09e1",
      "metadata": {
        "id": "b54a09e1"
      },
      "outputs": [],
      "source": [
        ""
      ]
    },
    {
      "cell_type": "markdown",
      "id": "377dcb82",
      "metadata": {
        "id": "377dcb82"
      },
      "source": [
        "👩‍💻 다른 사람 풀이"
      ]
    },
    {
      "cell_type": "code",
      "execution_count": null,
      "id": "55d24f20",
      "metadata": {
        "id": "55d24f20"
      },
      "outputs": [],
      "source": [
        ""
      ]
    },
    {
      "cell_type": "markdown",
      "id": "0fad7087",
      "metadata": {
        "id": "0fad7087"
      },
      "source": [
        "### 11. 소수 (🥈실버 4티어, [2581번](https://www.acmicpc.net/problem/2581))\n",
        "**문제**<br>\n",
        "자연수 M과 N이 주어질 때 M이상 N이하의 자연수 중 소수인 것을 모두 골라 이들 소수의 합과 최솟값을 찾는 프로그램을 작성하시오.\n",
        "\n",
        "예를 들어 M=60, N=100인 경우 60이상 100이하의 자연수 중 소수는 61, 67, 71, 73, 79, 83, 89, 97 총 8개가 있으므로, 이들 소수의 합은 620이고, 최솟값은 61이 된다.\n",
        "\n",
        "**입력**<br>\n",
        "입력의 첫째 줄에 M이, 둘째 줄에 N이 주어진다.\n",
        "\n",
        "M과 N은 10,000이하의 자연수이며, M은 N보다 작거나 같다.\n",
        "\n",
        "**출력**<br>\n",
        "M이상 N이하의 자연수 중 소수인 것을 모두 찾아 첫째 줄에 그 합을, 둘째 줄에 그 중 최솟값을 출력한다. \n",
        "\n",
        "단, M이상 N이하의 자연수 중 소수가 없을 경우는 첫째 줄에 -1을 출력한다.\n",
        "\n",
        "🙋‍♀️ 내 풀이"
      ]
    },
    {
      "cell_type": "code",
      "execution_count": null,
      "id": "baf7f460",
      "metadata": {
        "id": "baf7f460"
      },
      "outputs": [],
      "source": [
        ""
      ]
    },
    {
      "cell_type": "markdown",
      "id": "b565f5c8",
      "metadata": {
        "id": "b565f5c8"
      },
      "source": [
        "👩‍💻 다른 사람 풀이"
      ]
    },
    {
      "cell_type": "code",
      "execution_count": null,
      "id": "b9c78f40",
      "metadata": {
        "id": "b9c78f40"
      },
      "outputs": [],
      "source": [
        ""
      ]
    }
  ],
  "metadata": {
    "kernelspec": {
      "display_name": "Python 3 (ipykernel)",
      "language": "python",
      "name": "python3"
    },
    "language_info": {
      "codemirror_mode": {
        "name": "ipython",
        "version": 3
      },
      "file_extension": ".py",
      "mimetype": "text/x-python",
      "name": "python",
      "nbconvert_exporter": "python",
      "pygments_lexer": "ipython3",
      "version": "3.9.7"
    },
    "colab": {
      "name": "problems_part1_basics.ipynb",
      "provenance": []
    }
  },
  "nbformat": 4,
  "nbformat_minor": 5
}