{
 "cells": [
  {
   "cell_type": "markdown",
   "id": "861e0a62",
   "metadata": {},
   "source": [
    "# 백준 문제, 기본부터 최다 빈출 문제까지 풀기\n",
    " ## 준비운동 Part1. 튼튼한 기본기\n",
    "\n",
    "> 코딩테스트를 대비하며 여러 문제를 풀고자 합니다.\n",
    "코테 연습용 문제는 매우 많으므로, 좋은 문제들만 엄선한 포스팅을 따라 순서대로 풀겠습니다.\n",
    "이번에 따라할 문제 로드맵은 이곳입니다.\n",
    "[Covernant님 로드맵](https://covenant.tistory.com/224)\n",
    "\n",
    "### 1. 약수 구하기 (🥉 브론즈 3티어, [2501번](https://www.acmicpc.net/problem/2501))\n",
    "**문제**\n",
    "어떤 자연수 p와 q가 있을 때, 만일 p를 q로 나누었을 때 나머지가 0이면 q는 p의 약수이다. \n",
    "6을 예로 들면 6의 약수는 1, 2, 3, 6, 총 네 개이다. \n",
    "두 개의 자연수 N과 K가 주어졌을 때, N의 약수들 중 K번째로 작은 수를 출력하는 프로그램을 작성하시오.\n",
    "**입력**\n",
    "첫째 줄에 N과 K가 빈칸을 사이에 두고 주어진다. N은 1 이상 10,000 이하이다. K는 1 이상 N 이하이다.\n",
    "**출력**\n",
    "첫째 줄에 N의 약수들 중 K번째로 작은 수를 출력한다. 만일 N의 약수의 개수가 K개보다 적어서 K번째 약수가 존재하지 않을 경우에는 0을 출력하시오.\n",
    "\n",
    "- 내 풀이 "
   ]
  },
  {
   "cell_type": "code",
   "execution_count": null,
   "id": "2dd2396e",
   "metadata": {},
   "outputs": [],
   "source": [
    "N, K = map(int,input().split())\n",
    "k_list = []\n",
    "for q in range(1,N+1):\n",
    "    if (N%q == 0) : k_list.append(q)\n",
    "try : print(k_list[K-1])\n",
    "except : print(0)"
   ]
  },
  {
   "cell_type": "markdown",
   "id": "5376bcec",
   "metadata": {},
   "source": [
    "- 더 나은 남의 풀이 [sane2710님] (https://www.acmicpc.net/source/14350609)"
   ]
  },
  {
   "cell_type": "code",
   "execution_count": null,
   "id": "4c7261f7",
   "metadata": {},
   "outputs": [],
   "source": [
    "a, b = map(int, input().split())\n",
    "c = [i for i in range(1, a+1) if a%i==0]\n",
    "print(0 if len(c)<b else c[b-1])"
   ]
  },
  {
   "cell_type": "markdown",
   "id": "f6d593a0",
   "metadata": {},
   "source": [
    "### 2. 이진수 (🥉 브론즈 3티어, [3460번](https://www.acmicpc.net/problem/3460))\n",
    "**문제**\n",
    "양의 정수 n이 주어졌을 때, 이를 이진수로 나타냈을 때 1의 위치를 모두 찾는 프로그램을 작성하시오. 최하위 비트(least significant bit, lsb)의 위치는 0이다.\n",
    "\n",
    "**입력**\n",
    "첫째 줄에 테스트 케이스의 개수 T가 주어진다. 각 테스트 케이스는 한 줄로 이루어져 있고, n이 주어진다. (1 ≤ T ≤ 10, 1 ≤ n ≤ 106)\n",
    "\n",
    "**출력**\n",
    "각 테스트 케이스에 대해서, 1의 위치를 공백으로 구분해서 줄 하나에 출력한다. 위치가 낮은 것부터 출력한다.\n",
    "\n",
    "- 내 풀이"
   ]
  },
  {
   "cell_type": "code",
   "execution_count": null,
   "id": "60707bbf",
   "metadata": {},
   "outputs": [],
   "source": []
  },
  {
   "cell_type": "markdown",
   "id": "a9003e4b",
   "metadata": {},
   "source": [
    "### 3. 최소, 최대 (🥉 브론즈 3티어, [10818번](https://www.acmicpc.net/problem/10818))\n",
    "**문제**\n",
    "\n",
    "**입력**\n",
    "\n",
    "**출력**\n",
    "\n",
    "- 내 풀이"
   ]
  },
  {
   "cell_type": "code",
   "execution_count": null,
   "id": "d2431ba2",
   "metadata": {},
   "outputs": [],
   "source": []
  },
  {
   "cell_type": "markdown",
   "id": "a1795218",
   "metadata": {},
   "source": [
    "### 4. 지능형 기차 2 (🥉 브론즈 3티어, [2460번](https://www.acmicpc.net/problem/2460))\n",
    "**문제**\n",
    "\n",
    "**입력**\n",
    "\n",
    "**출력**\n",
    "\n",
    "- 내 풀이"
   ]
  },
  {
   "cell_type": "code",
   "execution_count": null,
   "id": "9648109b",
   "metadata": {},
   "outputs": [],
   "source": []
  },
  {
   "cell_type": "markdown",
   "id": "bb142254",
   "metadata": {},
   "source": [
    "### 5. 피보나치 수 5 (🥉 브론즈 2티어, [10870번](https://www.acmicpc.net/problem/10870))\n",
    "**문제**\n",
    "\n",
    "**입력**\n",
    "\n",
    "**출력**\n",
    "\n",
    "- 내 풀이"
   ]
  },
  {
   "cell_type": "code",
   "execution_count": null,
   "id": "6ab01763",
   "metadata": {},
   "outputs": [],
   "source": []
  },
  {
   "cell_type": "markdown",
   "id": "0c125b65",
   "metadata": {},
   "source": [
    "### 6. 일곱 난쟁이 (🥉 브론즈 2티어, [2309번](https://www.acmicpc.net/problem/2309))\n",
    "**문제**\n",
    "\n",
    "**입력**\n",
    "\n",
    "**출력**\n",
    "\n",
    "- 내 풀이"
   ]
  },
  {
   "cell_type": "code",
   "execution_count": null,
   "id": "adf85779",
   "metadata": {},
   "outputs": [],
   "source": []
  },
  {
   "cell_type": "markdown",
   "id": "bee55e42",
   "metadata": {},
   "source": [
    "### 7. 최대공약수와 최소공배수 (🥈실버 5티어, [2609번](https://www.acmicpc.net/problem/2609))\n",
    "**문제**\n",
    "\n",
    "**입력**\n",
    "\n",
    "**출력**\n",
    "\n",
    "- 내 풀이"
   ]
  },
  {
   "cell_type": "code",
   "execution_count": null,
   "id": "797937a1",
   "metadata": {},
   "outputs": [],
   "source": []
  },
  {
   "cell_type": "markdown",
   "id": "5e3a1b8c",
   "metadata": {},
   "source": [
    "### 8. N번째 큰 수 (🥈실버 5티어, [2693번](https://www.acmicpc.net/problem/2693))\n",
    "**문제**\n",
    "\n",
    "**입력**\n",
    "\n",
    "**출력**\n",
    "\n",
    "- 내 풀이"
   ]
  },
  {
   "cell_type": "code",
   "execution_count": null,
   "id": "fbe0158a",
   "metadata": {},
   "outputs": [],
   "source": []
  },
  {
   "cell_type": "markdown",
   "id": "904f2930",
   "metadata": {},
   "source": [
    "### 9. 소수 찾기 (🥈실버 4티어, [1978번](https://www.acmicpc.net/problem/1978))\n",
    "**문제**\n",
    "\n",
    "**입력**\n",
    "\n",
    "**출력**\n",
    "\n",
    "- 내 풀이"
   ]
  },
  {
   "cell_type": "code",
   "execution_count": null,
   "id": "c0ae0eef",
   "metadata": {},
   "outputs": [],
   "source": []
  },
  {
   "cell_type": "markdown",
   "id": "39db4f6c",
   "metadata": {},
   "source": [
    "### 10. 쉽게 푸는 문제 (🥈실버 4티어, [1292번](https://www.acmicpc.net/problem/1292))\n",
    "**문제**\n",
    "\n",
    "**입력**\n",
    "\n",
    "**출력**\n",
    "\n",
    "- 내 풀이"
   ]
  },
  {
   "cell_type": "code",
   "execution_count": null,
   "id": "e2cc4031",
   "metadata": {},
   "outputs": [],
   "source": []
  },
  {
   "cell_type": "markdown",
   "id": "7963d0b5",
   "metadata": {},
   "source": [
    "### 11. 소수 (🥈실버 4티어, [2581번](https://www.acmicpc.net/problem/2581))\n",
    "**문제**\n",
    "\n",
    "**입력**\n",
    "\n",
    "**출력**\n",
    "\n",
    "- 내 풀이"
   ]
  },
  {
   "cell_type": "code",
   "execution_count": null,
   "id": "b5434dec",
   "metadata": {},
   "outputs": [],
   "source": []
  }
 ],
 "metadata": {
  "kernelspec": {
   "display_name": "Python 3 (ipykernel)",
   "language": "python",
   "name": "python3"
  },
  "language_info": {
   "codemirror_mode": {
    "name": "ipython",
    "version": 3
   },
   "file_extension": ".py",
   "mimetype": "text/x-python",
   "name": "python",
   "nbconvert_exporter": "python",
   "pygments_lexer": "ipython3",
   "version": "3.9.7"
  }
 },
 "nbformat": 4,
 "nbformat_minor": 5
}
