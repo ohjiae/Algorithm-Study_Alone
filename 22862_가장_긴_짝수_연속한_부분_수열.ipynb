{
  "nbformat": 4,
  "nbformat_minor": 0,
  "metadata": {
    "colab": {
      "name": "22862-가장_긴_짝수_연속한_부분_수열.ipynb",
      "provenance": [],
      "collapsed_sections": [],
      "authorship_tag": "ABX9TyOLI82nMBBnjlSe0EduzWn7",
      "include_colab_link": true
    },
    "kernelspec": {
      "name": "python3",
      "display_name": "Python 3"
    },
    "language_info": {
      "name": "python"
    }
  },
  "cells": [
    {
      "cell_type": "markdown",
      "metadata": {
        "id": "view-in-github",
        "colab_type": "text"
      },
      "source": [
        "<a href=\"https://colab.research.google.com/github/ohjiae/Problems_Solving/blob/main/22862_%EA%B0%80%EC%9E%A5_%EA%B8%B4_%EC%A7%9D%EC%88%98_%EC%97%B0%EC%86%8D%ED%95%9C_%EB%B6%80%EB%B6%84_%EC%88%98%EC%97%B4.ipynb\" target=\"_parent\"><img src=\"https://colab.research.google.com/assets/colab-badge.svg\" alt=\"Open In Colab\"/></a>"
      ]
    },
    {
      "cell_type": "code",
      "source": [
        "# [22862-가장 긴 짝수 연속한 부분 수열](https://www.acmicpc.net/problem/22862)\n",
        "# 🙋‍♀️ 내 코드\n",
        "N, K = map(int,input().split())\n",
        "S = list(map(int,input().split()))\n",
        "new_S = S[K:]\n",
        "max_cnt = 0\n",
        "cnt = 0\n",
        "for i in range(1,len(new_S)):\n",
        "    if new_S[i]-1 == new_S[i-1]:\n",
        "        print('--수열--')\n",
        "        if new_S[i-1]%2 == 0 :\n",
        "            cnt += 1\n",
        "            print('전거짝수')\n",
        "        if new_S[i] == new_S[-1] or new_S[i+1] != new_S[i]+1 : # 연속 수열 끝날 때\n",
        "            if new_S[i] %2 == 0 : \n",
        "                cnt += 1\n",
        "                print('마지막수 = 짝수')\n",
        "            max_cnt = max(cnt,max_cnt)\n",
        "            cnt = 0\n",
        "            print('수열끝 or 리스트끝')\n",
        "            \n",
        "    else : \n",
        "        print('전거랑연속안됨')\n",
        "    print(f'for문 {i}차','i=',new_S[i],'i-1=',new_S[i-1],'mc =',max_cnt,'c=',cnt)          \n",
        "\n",
        "            \n",
        "print (max_cnt)\n"
      ],
      "metadata": {
        "colab": {
          "base_uri": "https://localhost:8080/"
        },
        "id": "IfGUtKMrAYIS",
        "outputId": "5d08ec1e-5898-44db-8ef4-2399101f5aec"
      },
      "execution_count": 19,
      "outputs": [
        {
          "output_type": "stream",
          "name": "stdout",
          "text": [
            "8 2\n",
            "1 2 3 4 5 6 7 8 9 10 14 15 16 17 18 19 20 21 22 23 24 25 30 31 32 33 34 35\n",
            "--수열--\n",
            "for문 1차 i= 4 i-1= 3 mc = 0 c= 0\n",
            "--수열--\n",
            "전거짝수\n",
            "for문 2차 i= 5 i-1= 4 mc = 0 c= 1\n",
            "--수열--\n",
            "for문 3차 i= 6 i-1= 5 mc = 0 c= 1\n",
            "--수열--\n",
            "전거짝수\n",
            "for문 4차 i= 7 i-1= 6 mc = 0 c= 2\n",
            "--수열--\n",
            "for문 5차 i= 8 i-1= 7 mc = 0 c= 2\n",
            "--수열--\n",
            "전거짝수\n",
            "for문 6차 i= 9 i-1= 8 mc = 0 c= 3\n",
            "--수열--\n",
            "마지막수 = 짝수\n",
            "수열끝 or 리스트끝\n",
            "for문 7차 i= 10 i-1= 9 mc = 4 c= 0\n",
            "전거랑연속안됨\n",
            "for문 8차 i= 14 i-1= 10 mc = 4 c= 0\n",
            "--수열--\n",
            "전거짝수\n",
            "for문 9차 i= 15 i-1= 14 mc = 4 c= 1\n",
            "--수열--\n",
            "for문 10차 i= 16 i-1= 15 mc = 4 c= 1\n",
            "--수열--\n",
            "전거짝수\n",
            "for문 11차 i= 17 i-1= 16 mc = 4 c= 2\n",
            "--수열--\n",
            "for문 12차 i= 18 i-1= 17 mc = 4 c= 2\n",
            "--수열--\n",
            "전거짝수\n",
            "for문 13차 i= 19 i-1= 18 mc = 4 c= 3\n",
            "--수열--\n",
            "for문 14차 i= 20 i-1= 19 mc = 4 c= 3\n",
            "--수열--\n",
            "전거짝수\n",
            "for문 15차 i= 21 i-1= 20 mc = 4 c= 4\n",
            "--수열--\n",
            "for문 16차 i= 22 i-1= 21 mc = 4 c= 4\n",
            "--수열--\n",
            "전거짝수\n",
            "for문 17차 i= 23 i-1= 22 mc = 4 c= 5\n",
            "--수열--\n",
            "for문 18차 i= 24 i-1= 23 mc = 4 c= 5\n",
            "--수열--\n",
            "전거짝수\n",
            "수열끝 or 리스트끝\n",
            "for문 19차 i= 25 i-1= 24 mc = 6 c= 0\n",
            "전거랑연속안됨\n",
            "for문 20차 i= 30 i-1= 25 mc = 6 c= 0\n",
            "--수열--\n",
            "전거짝수\n",
            "for문 21차 i= 31 i-1= 30 mc = 6 c= 1\n",
            "--수열--\n",
            "for문 22차 i= 32 i-1= 31 mc = 6 c= 1\n",
            "--수열--\n",
            "전거짝수\n",
            "for문 23차 i= 33 i-1= 32 mc = 6 c= 2\n",
            "--수열--\n",
            "for문 24차 i= 34 i-1= 33 mc = 6 c= 2\n",
            "--수열--\n",
            "전거짝수\n",
            "수열끝 or 리스트끝\n",
            "for문 25차 i= 35 i-1= 34 mc = 6 c= 0\n",
            "6\n"
          ]
        }
      ]
    },
    {
      "cell_type": "code",
      "source": [
        "## 백준 제출 코드 (위의것 정리, 틀림)\n",
        "N, K = map(int,input().split())\n",
        "S = list(map(int,input().split()))\n",
        "new_S = S[K:]\n",
        "max_cnt = 0\n",
        "cnt = 0\n",
        "for i in range(1,len(new_S)):\n",
        "    if new_S[i]-1 == new_S[i-1]:\n",
        "        if new_S[i-1]%2 == 0 :\n",
        "            cnt += 1\n",
        "        if new_S[i] == new_S[-1] or new_S[i+1] != new_S[i]+1 : # 연속 수열 끝날 때\n",
        "            if new_S[i] %2 == 0 : \n",
        "                cnt += 1\n",
        "            max_cnt = max(cnt,max_cnt)\n",
        "            cnt = 0\n",
        "print (max_cnt)\n"
      ],
      "metadata": {
        "id": "sCUJ9NltB5fy"
      },
      "execution_count": null,
      "outputs": []
    }
  ]
}