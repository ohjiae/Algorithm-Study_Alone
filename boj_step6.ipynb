{
  "nbformat": 4,
  "nbformat_minor": 0,
  "metadata": {
    "colab": {
      "name": "boj_step6.ipynb",
      "provenance": [],
      "authorship_tag": "ABX9TyNFGXw+zgskwBY1fDl3hL0H",
      "include_colab_link": true
    },
    "kernelspec": {
      "name": "python3",
      "display_name": "Python 3"
    },
    "language_info": {
      "name": "python"
    }
  },
  "cells": [
    {
      "cell_type": "markdown",
      "metadata": {
        "id": "view-in-github",
        "colab_type": "text"
      },
      "source": [
        "<a href=\"https://colab.research.google.com/github/ohjiae/solving_problems/blob/main/boj_step6.ipynb\" target=\"_parent\"><img src=\"https://colab.research.google.com/assets/colab-badge.svg\" alt=\"Open In Colab\"/></a>"
      ]
    },
    {
      "cell_type": "markdown",
      "source": [
        "# 백준 단계별로 문제풀기\n",
        "## 6단계 : 함수\n",
        "> 문제 목록\n",
        "1. [15596번 : 정수 n개의 합 ](https://www.acmicpc.net/problem/15596)\n",
        "2. [4673번 : 셀프넘버](https://www.acmicpc.net/problem/4673)\n",
        "\n",
        "\n",
        "\n",
        "### 1. [15596번 : 정수 n개의 합 ](https://www.acmicpc.net/problem/15596)\n",
        "\n",
        "**문제**\n",
        "\n",
        "정수 n개가 주어졌을 때, n개의 합을 구하는 함수를 작성하시오.\n",
        "\n",
        "작성해야 하는 함수는 다음과 같다.\n",
        "\n",
        "- Python 2, Python 3, PyPy, PyPy3: def solve(a: list) -> int\n",
        "a: 합을 구해야 하는 정수 n개가 저장되어 있는 리스트 (0 ≤ a[i] ≤ 1,000,000, 1 ≤ n ≤ 3,000,000)\n",
        "리턴값: a에 포함되어 있는 정수 n개의 합 (정수)\n",
        "\n",
        "<br>\n",
        "\n",
        "** 🙋‍♀️ 내코드 **\n",
        "\n"
      ],
      "metadata": {
        "id": "-0y2QmWcbHTH"
      }
    },
    {
      "cell_type": "code",
      "source": [
        "def solve(a):\n",
        "    return sum(a)"
      ],
      "metadata": {
        "id": "nY7FZhFCdxsd"
      },
      "execution_count": null,
      "outputs": []
    },
    {
      "cell_type": "markdown",
      "source": [
        "### 2. [4673번 : 셀프넘버](https://www.acmicpc.net/problem/4673)\n",
        "\n",
        "<br>\n",
        "\n",
        "**문제**\n",
        "\n",
        "셀프 넘버는 1949년 인도 수학자 D.R. Kaprekar가 이름 붙였다. 양의 정수 n에 대해서 d(n)을 n과 n의 각 자리수를 더하는 함수라고 정의하자. 예를 들어, d(75) = 75+7+5 = 87이다.\n",
        "\n",
        "양의 정수 n이 주어졌을 때, 이 수를 시작해서 n, d(n), d(d(n)), d(d(d(n))), ...과 같은 무한 수열을 만들 수 있다. \n",
        "\n",
        "예를 들어, 33으로 시작한다면 다음 수는 33 + 3 + 3 = 39이고, 그 다음 수는 39 + 3 + 9 = 51, 다음 수는 51 + 5 + 1 = 57이다. 이런식으로 다음과 같은 수열을 만들 수 있다.\n",
        "\n",
        "33, 39, 51, 57, 69, 84, 96, 111, 114, 120, 123, 129, 141, ...\n",
        "\n",
        "n을 d(n)의 생성자라고 한다. 위의 수열에서 33은 39의 생성자이고, 39는 51의 생성자, 51은 57의 생성자이다. 생성자가 한 개보다 많은 경우도 있다. 예를 들어, 101은 생성자가 2개(91과 100) 있다. \n",
        "\n",
        "생성자가 없는 숫자를 셀프 넘버라고 한다. 100보다 작은 셀프 넘버는 총 13개가 있다. 1, 3, 5, 7, 9, 20, 31, 42, 53, 64, 75, 86, 97\n",
        "\n",
        "10000보다 작거나 같은 셀프 넘버를 한 줄에 하나씩 출력하는 프로그램을 작성하시오.\n",
        "\n",
        "<br>\n",
        "\n",
        "---\n",
        "\n",
        "**입력**\n",
        "\n",
        "입력은 없다\n",
        "\n",
        "<br>\n",
        "\n",
        "---\n",
        "<br>\n",
        "\n",
        "**출력** \n",
        "\n",
        "10,000보다 작거나 같은 셀프 넘버를 한 줄에 하나씩 증가하는 순서로 출력한다.\n",
        "\n",
        "<br>\n",
        "\n",
        "** 🙋‍♀️ 내코드 **\n",
        "\n",
        " "
      ],
      "metadata": {
        "id": "Nifi0rk0bpFh"
      }
    },
    {
      "cell_type": "code",
      "execution_count": 14,
      "metadata": {
        "colab": {
          "base_uri": "https://localhost:8080/"
        },
        "id": "uYETsHnEbEvB",
        "outputId": "79506314-4535-47c5-a72c-c57b591da197"
      },
      "outputs": [
        {
          "output_type": "stream",
          "name": "stdout",
          "text": [
            "[1, 3, 5, 7, 9, 20, 31, 42, 53, 64, 75, 86, 97, 108, 119, 130, 141, 152, 163, 174]\n"
          ]
        }
      ],
      "source": [
        "cnt = round((10/2)+(9980/11))\n",
        "i = -1\n",
        "i_list = []\n",
        "for _ in range(cnt):\n",
        "    if i < 8 :\n",
        "        i += 2\n",
        "    else :\n",
        "        i+= 11\n",
        "    i_list.append(i)\n",
        "print(i_list[:20],sep='\\n')"
      ]
    },
    {
      "cell_type": "markdown",
      "source": [
        "원래는 셀프넘버의 규칙이 10 이전에는 2씩 증가하고,\n",
        "<br>\n",
        "이후에는 11씩 증가하는 줄 알고 그렇게 코드를 짰다.\n",
        "\n",
        "그러나 아닌가보다.\n",
        "\n",
        "리스트를 만들고 뒤의 [:20]을 출력하니 달랐다..\n",
        "\n",
        "분명 이걸 반영하는 수열이 있을 것 같지만, 못 찾겠어서 문제의 알고리즘을 그대로 짜야겠다.\n",
        "\n",
        "<p>\n",
        "<br>\n",
        "\n",
        "**🙋‍♀️ 다시 도전**\n",
        "\n",
        "\n",
        "\n",
        "\n",
        "\n"
      ],
      "metadata": {
        "id": "iesEDn6xhZ-O"
      }
    },
    {
      "cell_type": "code",
      "source": [
        ""
      ],
      "metadata": {
        "id": "Kgi3WnUnd6Ke"
      },
      "execution_count": null,
      "outputs": []
    }
  ]
}