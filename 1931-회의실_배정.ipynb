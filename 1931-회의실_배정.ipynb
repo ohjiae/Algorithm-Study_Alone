{
  "nbformat": 4,
  "nbformat_minor": 0,
  "metadata": {
    "colab": {
      "name": "1931-회의실_배정.ipynb",
      "provenance": [],
      "collapsed_sections": [],
      "authorship_tag": "ABX9TyNvim6d0AnRyZkZFfz0vySk",
      "include_colab_link": true
    },
    "kernelspec": {
      "name": "python3",
      "display_name": "Python 3"
    },
    "language_info": {
      "name": "python"
    }
  },
  "cells": [
    {
      "cell_type": "markdown",
      "metadata": {
        "id": "view-in-github",
        "colab_type": "text"
      },
      "source": [
        "<a href=\"https://colab.research.google.com/github/ohjiae/Problems_Solving/blob/main/1931_%ED%9A%8C%EC%9D%98%EC%8B%A4_%EB%B0%B0%EC%A0%95.ipynb\" target=\"_parent\"><img src=\"https://colab.research.google.com/assets/colab-badge.svg\" alt=\"Open In Colab\"/></a>"
      ]
    },
    {
      "cell_type": "code",
      "execution_count": null,
      "metadata": {
        "id": "TtY0ojjjsxFE"
      },
      "outputs": [],
      "source": [
        "# [1931번 - 회의실 배정](https://www.acmicpc.net/problem/1931)\n",
        "# 🙋‍♀️ 내 코드"
      ]
    },
    {
      "cell_type": "code",
      "source": [
        "from sys import stdin\n",
        "N = int(input())\n",
        "#input = stdin.readline\n",
        "schedules = [list(map(int,input().split())) for _ in range(N)]"
      ],
      "metadata": {
        "colab": {
          "base_uri": "https://localhost:8080/"
        },
        "id": "Qp0XcXTis9iT",
        "outputId": "b840f3ca-0b5b-4d74-9893-ca2ba3786916"
      },
      "execution_count": null,
      "outputs": [
        {
          "name": "stdout",
          "output_type": "stream",
          "text": [
            "11\n",
            "1 4\n",
            "3 5\n",
            "0 6\n",
            "5 7\n",
            "3 8\n",
            "5 9\n",
            "6 10\n",
            "8 11\n",
            "8 12\n",
            "2 13\n",
            "12 14\n"
          ]
        }
      ]
    },
    {
      "cell_type": "code",
      "source": [
        "schedules.sort(key = lambda x : (x[1],x[0])) # x[1]끝나는 시간 정렬 후 [0] 시작 시간으로 다시 정렬"
      ],
      "metadata": {
        "id": "ZFaVpBEgtzO5"
      },
      "execution_count": 10,
      "outputs": []
    },
    {
      "cell_type": "code",
      "source": [
        "end = 0 \n",
        "cnt = 0\n",
        "for s, e in schedules:\n",
        "    if end <= s:\n",
        "        cnt += 1\n",
        "        end = e\n",
        "print(cnt)"
      ],
      "metadata": {
        "id": "xM7nytAYuE8G",
        "colab": {
          "base_uri": "https://localhost:8080/"
        },
        "outputId": "55849208-0c2a-4649-f692-80b61304a404"
      },
      "execution_count": 13,
      "outputs": [
        {
          "output_type": "stream",
          "name": "stdout",
          "text": [
            "4\n"
          ]
        }
      ]
    }
  ]
}
