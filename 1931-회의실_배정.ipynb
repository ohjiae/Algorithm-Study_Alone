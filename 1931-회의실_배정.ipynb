{
  "nbformat": 4,
  "nbformat_minor": 0,
  "metadata": {
    "colab": {
      "name": "1931-회의실_배정.ipynb",
      "provenance": [],
      "authorship_tag": "ABX9TyOOTmJEu/x90pvH7q1CTR9h",
      "include_colab_link": true
    },
    "kernelspec": {
      "name": "python3",
      "display_name": "Python 3"
    },
    "language_info": {
      "name": "python"
    }
  },
  "cells": [
    {
      "cell_type": "markdown",
      "metadata": {
        "id": "view-in-github",
        "colab_type": "text"
      },
      "source": [
        "<a href=\"https://colab.research.google.com/github/ohjiae/Problems_Solving/blob/main/1931-%ED%9A%8C%EC%9D%98%EC%8B%A4_%EB%B0%B0%EC%A0%95.ipynb\" target=\"_parent\"><img src=\"https://colab.research.google.com/assets/colab-badge.svg\" alt=\"Open In Colab\"/></a>"
      ]
    },
    {
      "cell_type": "code",
      "execution_count": 1,
      "metadata": {
        "id": "TtY0ojjjsxFE"
      },
      "outputs": [],
      "source": [
        "# [1931번 - 회의실 배정](https://www.acmicpc.net/problem/1931)\n",
        "# 🙋‍♀️ 내 코드"
      ]
    },
    {
      "cell_type": "code",
      "source": [
        ""
      ],
      "metadata": {
        "id": "Qp0XcXTis9iT"
      },
      "execution_count": null,
      "outputs": []
    }
  ]
}