{
  "nbformat": 4,
  "nbformat_minor": 0,
  "metadata": {
    "colab": {
      "name": "4811-알약.ipynb",
      "provenance": [],
      "collapsed_sections": [],
      "authorship_tag": "ABX9TyNgTIHTr5nrRsAHcWpEM8Kw",
      "include_colab_link": true
    },
    "kernelspec": {
      "name": "python3",
      "display_name": "Python 3"
    },
    "language_info": {
      "name": "python"
    }
  },
  "cells": [
    {
      "cell_type": "markdown",
      "metadata": {
        "id": "view-in-github",
        "colab_type": "text"
      },
      "source": [
        "<a href=\"https://colab.research.google.com/github/ohjiae/Problems_Solving/blob/main/4811-%EC%95%8C%EC%95%BD.ipynb\" target=\"_parent\"><img src=\"https://colab.research.google.com/assets/colab-badge.svg\" alt=\"Open In Colab\"/></a>"
      ]
    },
    {
      "cell_type": "code",
      "execution_count": null,
      "metadata": {
        "id": "08Fr00lFSgmh"
      },
      "outputs": [],
      "source": [
        "# [4811번 - 알약](https://www.acmicpc.net/problem/4811)\n",
        "# 🙋‍♀️ 내 코드\n",
        "while True :\n",
        "    W = int(input())\n",
        "    H = 0\n",
        "    if W == 0 :\n",
        "        break\n",
        "    else : \n",
        "        if W <= 2: \n",
        "            print(W)\n",
        "        else : \n",
        "            H = W*2\n"
      ]
    }
  ]
}