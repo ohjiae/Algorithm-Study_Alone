{
  "nbformat": 4,
  "nbformat_minor": 0,
  "metadata": {
    "colab": {
      "name": "공부필요-2251-물통.ipynb",
      "provenance": [],
      "collapsed_sections": [],
      "authorship_tag": "ABX9TyOjNABQd7CndVnxRFRWxmid",
      "include_colab_link": true
    },
    "kernelspec": {
      "name": "python3",
      "display_name": "Python 3"
    },
    "language_info": {
      "name": "python"
    }
  },
  "cells": [
    {
      "cell_type": "markdown",
      "metadata": {
        "id": "view-in-github",
        "colab_type": "text"
      },
      "source": [
        "<a href=\"https://colab.research.google.com/github/ohjiae/Problems_Solving/blob/main/%EA%B3%B5%EB%B6%80%ED%95%84%EC%9A%94_2251_%EB%AC%BC%ED%86%B5.ipynb\" target=\"_parent\"><img src=\"https://colab.research.google.com/assets/colab-badge.svg\" alt=\"Open In Colab\"/></a>"
      ]
    },
    {
      "cell_type": "code",
      "execution_count": 6,
      "metadata": {
        "colab": {
          "base_uri": "https://localhost:8080/"
        },
        "id": "6LgM_38K6Hb9",
        "outputId": "0a9f20f7-f54b-4415-bed7-a1f0b6223135"
      },
      "outputs": [
        {
          "name": "stdout",
          "output_type": "stream",
          "text": [
            "3 3 3\n"
          ]
        },
        {
          "output_type": "execute_result",
          "data": {
            "text/plain": [
              "(0, 3)"
            ]
          },
          "metadata": {},
          "execution_count": 6
        }
      ],
      "source": [
        "# [2251번 : 물통](https://www.acmicpc.net/problem/2251)\n",
        "# 🙋‍♀️ 내 코드 \n",
        "\n",
        "\n",
        "\n",
        "# 🧑‍💻 다른 사람 코드 (https://otugi.tistory.com/90)\n",
        "\n",
        "from collections import deque\n",
        "\n",
        "def pour(x,y):\n",
        "    if not visit[x][y]:\n",
        "        visit[x][y] = True\n",
        "        q.append((x,y))\n",
        "\n",
        "def bfs():\n",
        "    q.append((0,0)) #처음 시작 상태\n",
        "    visit[0][0] = True\n",
        "    while q:\n",
        "        x,y = q.popleft()\n",
        "        z = c-x-y\n",
        "        if x == 0:\n",
        "            ans.append(z)\n",
        "\n",
        "        water = min(x, b-y)\n",
        "        pour(x-water, y+water)\n",
        "        water=min(x, c-z)\n",
        "        pour(x-water, y)\n",
        "        water=min(y, a-x)\n",
        "        pour(x+water, y-water)\n",
        "        water=min(y, c-z)\n",
        "        pour(x, y-water)\n",
        "        water=min(z, a-x)\n",
        "        pour(x+water, y)\n",
        "        water=min(z, b-y)\n",
        "        pour(x, y+water)\n",
        "\n",
        "a,b,c=list(map(int, input().split()))\n",
        "q = deque()\n",
        "ans = []\n",
        "visit = [[False]*(b+1) for _ in range(a+1)]\n",
        "bfs()\n",
        "ans.sort()\n",
        "print(' '.join(map(str, ans)))\n"
      ]
    },
    {
      "cell_type": "code",
      "source": [
        ""
      ],
      "metadata": {
        "id": "S9jXIrAV7PkI"
      },
      "execution_count": null,
      "outputs": []
    }
  ]
}
