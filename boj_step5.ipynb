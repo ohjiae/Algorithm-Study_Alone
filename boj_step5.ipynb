{
  "nbformat": 4,
  "nbformat_minor": 0,
  "metadata": {
    "colab": {
      "name": "boj_step5.ipynb",
      "provenance": [],
      "authorship_tag": "ABX9TyOKP+j5dzAMGepekl9KLYUH",
      "include_colab_link": true
    },
    "kernelspec": {
      "name": "python3",
      "display_name": "Python 3"
    },
    "language_info": {
      "name": "python"
    }
  },
  "cells": [
    {
      "cell_type": "markdown",
      "metadata": {
        "id": "view-in-github",
        "colab_type": "text"
      },
      "source": [
        "<a href=\"https://colab.research.google.com/github/ohjiae/solving_problems/blob/main/boj_step5.ipynb\" target=\"_parent\"><img src=\"https://colab.research.google.com/assets/colab-badge.svg\" alt=\"Open In Colab\"/></a>"
      ]
    },
    {
      "cell_type": "markdown",
      "source": [
        "# 백준 단계별로 문제풀기\n",
        "## 5단계 \n",
        "\n",
        "\n",
        "### 5. [8958번 : OX퀴즈](https://www.acmicpc.net/problem/8958)\n",
        "**문제**\n",
        "\n",
        "\"OOXXOXXOOO\"와 같은 OX퀴즈의 결과가 있다. O는 문제를 맞은 것이고, X는 문제를 틀린 것이다. 문제를 맞은 경우 그 문제의 점수는 그 문제까지 연속된 O의 개수가 된다. 예를 들어, 10번 문제의 점수는 3이 된다.\n",
        "\n",
        "\"OOXXOXXOOO\"의 점수는 1+2+0+0+1+0+0+1+2+3 = 10점이다.\n",
        "\n",
        "OX퀴즈의 결과가 주어졌을 때, 점수를 구하는 프로그램을 작성하시오.\n",
        "\n",
        "--------\n",
        "**입력**\n",
        "\n",
        "첫째 줄에 테스트 케이스의 개수가 주어진다. 각 테스트 케이스는 한 줄로 이루어져 있고, 길이가 0보다 크고 80보다 작은 문자열이 주어진다. 문자열은 O와 X만으로 이루어져 있다.\n",
        "\n",
        "-------\n",
        "\n",
        "**출력**\n",
        "\n",
        "각 테스트 케이스마다 점수를 출력한다.\n",
        "\n",
        "\n",
        "**🙋‍♀️ 내코드**"
      ],
      "metadata": {
        "id": "kFakWuFteYRX"
      }
    },
    {
      "cell_type": "code",
      "source": [
        "import sys\n",
        "num = int(input())\n",
        "OX_line = []\n",
        "for _ in range(num):\n",
        "    OX_line.append(sys.stdin.readline().strip().split('X'))\n",
        "for OX in OX_line:\n",
        "    sum = 0\n",
        "    for i in OX:\n",
        "        n = len(i)\n",
        "        sum += ((n**2)+n)/2 #삼각수 공식\n",
        "    print(int(sum))"
      ],
      "metadata": {
        "id": "zROAn4aTW31l"
      },
      "execution_count": null,
      "outputs": []
    }
  ]
}