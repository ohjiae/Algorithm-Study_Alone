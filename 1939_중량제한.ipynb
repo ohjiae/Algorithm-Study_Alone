{
  "nbformat": 4,
  "nbformat_minor": 0,
  "metadata": {
    "colab": {
      "name": "1939-중량제한.ipynb",
      "provenance": [],
      "collapsed_sections": [],
      "authorship_tag": "ABX9TyPp1/5+SkvkxmScJ90CI8T1",
      "include_colab_link": true
    },
    "kernelspec": {
      "name": "python3",
      "display_name": "Python 3"
    },
    "language_info": {
      "name": "python"
    }
  },
  "cells": [
    {
      "cell_type": "markdown",
      "metadata": {
        "id": "view-in-github",
        "colab_type": "text"
      },
      "source": [
        "<a href=\"https://colab.research.google.com/github/ohjiae/Problems_Solving/blob/main/1939_%EC%A4%91%EB%9F%89%EC%A0%9C%ED%95%9C.ipynb\" target=\"_parent\"><img src=\"https://colab.research.google.com/assets/colab-badge.svg\" alt=\"Open In Colab\"/></a>"
      ]
    },
    {
      "cell_type": "code",
      "source": [
        "N, M = map(int,input().split())\n",
        "bridges = [list(map(int,input().split())) for _ in range(M+1)]\n",
        "\n",
        "facts = bridges[-1]\n",
        "del bridges[-1]\n",
        "ans = []\n",
        "for i in range(len(bridges)):\n",
        "    start = bridges[i][0]\n",
        "    end = bridges[i][1]\n",
        "    print(bridges, start, end)\n",
        "    if (start in facts) and (end in facts) :\n",
        "        ans.append(bridges[i])\n",
        "        \n",
        "ans.sort(key=lambda x : x[2], reverse = True)\n",
        "print(ans[0][2])\n",
        "\n",
        "# 출력 초과"
      ],
      "metadata": {
        "id": "JRF7RioNTIXB",
        "colab": {
          "base_uri": "https://localhost:8080/"
        },
        "outputId": "2b2e35f8-e394-4912-f8a4-9a9ae2fefd01"
      },
      "execution_count": null,
      "outputs": [
        {
          "output_type": "stream",
          "name": "stdout",
          "text": [
            "[[1, 2, 2], [1, 3, 1], [2, 3, 2], [3, 1, 4], [1, 3, 6]] 1 2\n",
            "[[1, 2, 2], [1, 3, 1], [2, 3, 2], [3, 1, 4], [1, 3, 6]] 1 3\n",
            "[[1, 2, 2], [1, 3, 1], [2, 3, 2], [3, 1, 4], [1, 3, 6]] 2 3\n",
            "[[1, 2, 2], [1, 3, 1], [2, 3, 2], [3, 1, 4], [1, 3, 6]] 3 1\n",
            "[[1, 2, 2], [1, 3, 1], [2, 3, 2], [3, 1, 4], [1, 3, 6]] 1 3\n",
            "6\n"
          ]
        }
      ]
    },
    {
      "cell_type": "code",
      "source": [
        "N, M = map(int,input().split())\n",
        "brg = {}\n",
        "for i in range(M+1):\n",
        "    if i != M:\n",
        "        s,e,w = map(int, input().split())\n",
        "        temp_k = (min(s,e),max(s,e))\n",
        "    #    print(temp_k,'and',min(s,e),max(s,e))\n",
        "\n",
        "        if temp_k in brg:\n",
        "            if w > brg[temp_k]:\n",
        "                brg[temp_k] = w\n",
        "        else : brg[temp_k] = w\n",
        "    \n",
        "    else :\n",
        "        fact = sorted(list(map(int,input().split())))\n",
        "print(brg[fact[0],fact[1]])"
      ],
      "metadata": {
        "colab": {
          "base_uri": "https://localhost:8080/"
        },
        "id": "JkmTgqtDOX_p",
        "outputId": "55577222-9198-424c-eb49-b44790596505"
      },
      "execution_count": 63,
      "outputs": [
        {
          "output_type": "stream",
          "name": "stdout",
          "text": [
            "2 1\n",
            "1 1 2\n",
            "1 1\n",
            "2\n"
          ]
        }
      ]
    },
    {
      "cell_type": "code",
      "source": [
        "print(fact,'b=',\n",
        "      brg[(fact)])"
      ],
      "metadata": {
        "colab": {
          "base_uri": "https://localhost:8080/"
        },
        "id": "KtiP6vlPnTKU",
        "outputId": "b8258c2a-49a6-4f40-be39-ed977a59710d"
      },
      "execution_count": 60,
      "outputs": [
        {
          "output_type": "stream",
          "name": "stdout",
          "text": [
            "[1, 3] b=\n"
          ]
        }
      ]
    },
    {
      "cell_type": "code",
      "source": [
        ""
      ],
      "metadata": {
        "id": "zsSgKC52n-Cp"
      },
      "execution_count": null,
      "outputs": []
    }
  ]
}