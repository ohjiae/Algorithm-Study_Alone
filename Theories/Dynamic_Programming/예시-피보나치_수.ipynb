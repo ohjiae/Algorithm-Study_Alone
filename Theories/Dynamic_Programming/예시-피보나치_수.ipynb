{
 "cells": [
  {
   "cell_type": "markdown",
   "metadata": {},
   "source": [
    "# DP(= 동적계획법, 다이나믹 프로그래밍) 알고리즘\n",
    "> [예시 문제 - 10870번 : 피보나치 수 5](https://www.acmicpc.net/problem/10870)\n",
    "\n",
    "## 상향식 DP (Bottom-up 방식)\n",
    "\n",
    "- DP중 bottom-up(상향식)방법은 1+2부터 시작해서 <br> 작은 수부터 N+1 길이의 dp를 채워주고 마지막 결과값을 반환.\n",
    "<p>\n",
    "- 트리 모양의 피보나치 수에서 밑(자식노드)에서부터 구하기 시작하는 것.<br>\n",
    "<p>\n",
    "- 예시 코드"
   ]
  },
  {
   "cell_type": "code",
   "execution_count": 4,
   "metadata": {
    "colab": {
     "base_uri": "https://localhost:8080/"
    },
    "id": "Lh4Scy2j1wAu",
    "outputId": "6e62b5d1-ef35-43a3-baa0-e625c1464959",
    "scrolled": true
   },
   "outputs": [
    {
     "name": "stdout",
     "output_type": "stream",
     "text": [
      "10\n",
      "55\n"
     ]
    }
   ],
   "source": [
    "N = int(input())\n",
    "dp = [0]*(N+1)\n",
    "\n",
    "def fib(num):\n",
    "    dp[num] = dp[num-1] + dp[num-2]\n",
    "    \n",
    "if N == 0 :\n",
    "    print(0)\n",
    "else :\n",
    "    dp[1] = 1\n",
    "    for i in range(2, N+1):\n",
    "        fib(i)\n",
    "    print(dp[N])\n"
   ]
  },
  {
   "cell_type": "markdown",
   "metadata": {},
   "source": [
    "## 하향식 DP (Top-down 방식)\n",
    "- DP중 Top-down(하향식)방법은 N = 100이라 치면 <br>\n",
    "'dp[99] + dp[98]을 해.'라고 명령. <br>\n",
    "    + \\>그래서 dp[99]랑 dp[98]이뭔데? <br>\n",
    "    + \\> 찾기위해 fib[99] 실행, fib[98] 실행 <br>\n",
    "    + \\> 그안에서 또 98 97이뭔데 하면서 물어보는 아래로 내려가는 형식. <br>\n",
    "    <p>\n",
    "    \n",
    "- 트리 모양의 피보나치 수 그래프에서 봤을 때, <br>\n",
    "  위(부모노드)에서 그 바로 아래 자식부터 물어보며 내려가면서 <br>\n",
    "  계속 값이 나올때까지 내려가는 것. <br>\n",
    "<br>\n",
    "- 그래서 계속 물어보며 내려가다가 값이 나오는 <br>\n",
    "```if num <= 1 : return num``` <br>\n",
    "이 조건에서 1과 0이 나오면서 <br>\n",
    "그때부터 값이 채워지며 답하기 시작함.<br>\n",
    "<br>\n",
    "- 예시 코드"
   ]
  },
  {
   "cell_type": "code",
   "execution_count": 2,
   "metadata": {
    "colab": {
     "base_uri": "https://localhost:8080/"
    },
    "id": "Hjd6tdzA-9_K",
    "outputId": "b67266a0-c220-4354-b167-a4763d059ab1"
   },
   "outputs": [
    {
     "name": "stdout",
     "output_type": "stream",
     "text": [
      "10\n",
      "55\n"
     ]
    }
   ],
   "source": [
    "N = int(input())\n",
    "dp = [0]*(N+1)\n",
    "\n",
    "def fib(num):\n",
    "    if num <= 1 :\n",
    "        return num\n",
    "    elif dp[num] != 0:\n",
    "        return dp[num]\n",
    "    dp[num] = fib(num-1) + fib(num-2)\n",
    "    return dp[num]\n",
    "print(fib(N))"
   ]
  }
 ],
 "metadata": {
  "colab": {
   "collapsed_sections": [],
   "name": "algorithms-DP-10870-피보나치_수_5.py",
   "provenance": []
  },
  "kernelspec": {
   "display_name": "Python 3 (ipykernel)",
   "language": "python",
   "name": "python3"
  },
  "language_info": {
   "codemirror_mode": {
    "name": "ipython",
    "version": 3
   },
   "file_extension": ".py",
   "mimetype": "text/x-python",
   "name": "python",
   "nbconvert_exporter": "python",
   "pygments_lexer": "ipython3",
   "version": "3.7.6"
  }
 },
 "nbformat": 4,
 "nbformat_minor": 1
}
