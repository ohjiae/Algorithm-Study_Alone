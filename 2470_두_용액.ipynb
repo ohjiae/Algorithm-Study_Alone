{
  "nbformat": 4,
  "nbformat_minor": 0,
  "metadata": {
    "colab": {
      "name": "2470-두_용액.ipynb",
      "provenance": [],
      "collapsed_sections": [],
      "authorship_tag": "ABX9TyOELje4gRqqCVesI+INVWqV",
      "include_colab_link": true
    },
    "kernelspec": {
      "name": "python3",
      "display_name": "Python 3"
    },
    "language_info": {
      "name": "python"
    }
  },
  "cells": [
    {
      "cell_type": "markdown",
      "metadata": {
        "id": "view-in-github",
        "colab_type": "text"
      },
      "source": [
        "<a href=\"https://colab.research.google.com/github/ohjiae/Problems_Solving/blob/main/2470_%EB%91%90_%EC%9A%A9%EC%95%A1.ipynb\" target=\"_parent\"><img src=\"https://colab.research.google.com/assets/colab-badge.svg\" alt=\"Open In Colab\"/></a>"
      ]
    },
    {
      "cell_type": "code",
      "execution_count": 1,
      "metadata": {
        "colab": {
          "base_uri": "https://localhost:8080/"
        },
        "id": "QxMprtMGZB6K",
        "outputId": "4aff81e2-996b-43fa-d6c7-eed4d8072cc3"
      },
      "outputs": [
        {
          "name": "stdout",
          "output_type": "stream",
          "text": [
            "12\n",
            "8 64 5 11 -3 98 -71 -1  -14 -34 22 17 -99\n"
          ]
        }
      ],
      "source": [
        "# [2470-두 용액](https://www.acmicpc.net/problem/2470)\n",
        "# 🙋‍♀️ 내 코드\n",
        "N = int(input())\n",
        "arr = list(map(int, input().split()))"
      ]
    },
    {
      "cell_type": "code",
      "source": [
        "# 미아 찾기 센터처럼 생각하기.\n",
        "plus ={} # key : 찾고 있는 산성 x value : 찾는 이\n",
        "minus ={}  # key : 찾고 있는 알칼리 x, value : 찾는 이\n",
        "\n",
        "for i in arr :\n",
        "    # 원소 하나씩 딕셔너리 등록 \n",
        "    flag = False\n",
        "    if i > 0 : # i가 양수(산성)일 때\n",
        "        if i in minus : # 3 으로 -3찾기. key 3 value -3  \n",
        "            print(i, minus[i])\n",
        "            flag = True  \n",
        "            break\n",
        "        else : \n",
        "            minus[-i] = i #key -3아 날찾아 value = 3\n",
        "            p_arr.append(i)\n",
        "    \n",
        "    else : # 음성(알칼리)일 때\n",
        "        if i in plus : # -3으로 3찾기 key = -3  value =3\n",
        "            print(i, plus[i])\n",
        "            flag = True\n",
        "            break\n",
        "        else : \n",
        "            minus[abs(i)] = i # key 3아 날찾아 value -3\n",
        "            m_arr.append(i)\n",
        "\n",
        "# 합이 0이 아니라서 못찾으면 (flag = False), 절대값 기준 정리 후 0과 가까운 앞 두개 출력.\n",
        "if flag == False :\n",
        "    n_arr = sorted(arr, key =abs)\n",
        "    result = [0,0]\n",
        "    two_sum = 2000000000\n",
        "    for j in range(1,len(n_arr)):\n",
        "        if abs(n_arr[j-1] + n_arr[j]) < two_sum:\n",
        "            two_sum = abs(n_arr[j-1] + n_arr[j])\n",
        "            result[0] = n_arr[j-1]\n",
        "            result[1] = n_arr[j]\n",
        "    print(n_arr[j-1],n_arr[j])"
      ],
      "metadata": {
        "colab": {
          "base_uri": "https://localhost:8080/"
        },
        "id": "xBYkYWcfb7MY",
        "outputId": "ced341cb-f444-4a61-fa61-a71826220d6c"
      },
      "execution_count": 14,
      "outputs": [
        {
          "output_type": "stream",
          "name": "stdout",
          "text": [
            "98 -99\n"
          ]
        }
      ]
    },
    {
      "cell_type": "code",
      "source": [
        "import sys\n",
        "N = int(input())\n",
        "n_arr = sorted(list(map(int, input().split())), key = abs)\n",
        "result = [0,1]\n",
        "min_dif = 2000000000\n",
        "for j in range(1,len(n_arr)):\n",
        "    if abs(n_arr[j]) - abs(n_arr[j-1]) < min_dif:\n",
        "        min_dif = abs(n_arr[j]) - abs(n_arr[j-1])\n",
        "        result[0] = n_arr[j-1]\n",
        "        result[1] = n_arr[j]\n",
        "    print(min_dif, n_arr[j-1], n_arr[j], result)\n",
        "\n",
        "print(result[0],result[1])"
      ],
      "metadata": {
        "colab": {
          "base_uri": "https://localhost:8080/"
        },
        "id": "dR_pT82GcJfe",
        "outputId": "7a7f8ffc-ea96-4afa-f0bb-7b62215491df"
      },
      "execution_count": 27,
      "outputs": [
        {
          "output_type": "stream",
          "name": "stdout",
          "text": [
            "1\n",
            "1 8 17 99 60 399 32 94\n",
            "9 1 8 [1, 8]\n",
            "9 8 17 [1, 8]\n",
            "9 17 32 [1, 8]\n",
            "9 32 60 [1, 8]\n",
            "9 60 94 [1, 8]\n",
            "193 94 99 [94, 99]\n",
            "193 99 399 [94, 99]\n",
            "94 99\n"
          ]
        }
      ]
    },
    {
      "cell_type": "code",
      "source": [
        ""
      ],
      "metadata": {
        "id": "NPcAECkPnlyU"
      },
      "execution_count": null,
      "outputs": []
    }
  ]
}