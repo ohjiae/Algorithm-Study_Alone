{
  "nbformat": 4,
  "nbformat_minor": 0,
  "metadata": {
    "colab": {
      "name": "10809-알파벳_찾기.ipynb",
      "provenance": [],
      "authorship_tag": "ABX9TyNjdscNbtIRkPoRx5PCbaHa",
      "include_colab_link": true
    },
    "kernelspec": {
      "name": "python3",
      "display_name": "Python 3"
    },
    "language_info": {
      "name": "python"
    }
  },
  "cells": [
    {
      "cell_type": "markdown",
      "metadata": {
        "id": "view-in-github",
        "colab_type": "text"
      },
      "source": [
        "<a href=\"https://colab.research.google.com/github/ohjiae/Problems_Solving/blob/main/10809_%EC%95%8C%ED%8C%8C%EB%B2%B3_%EC%B0%BE%EA%B8%B0.ipynb\" target=\"_parent\"><img src=\"https://colab.research.google.com/assets/colab-badge.svg\" alt=\"Open In Colab\"/></a>"
      ]
    },
    {
      "cell_type": "code",
      "execution_count": 12,
      "metadata": {
        "colab": {
          "base_uri": "https://localhost:8080/"
        },
        "id": "PAqLFXchYE09",
        "outputId": "77116872-409d-439e-f440-b5c473baafdc"
      },
      "outputs": [
        {
          "output_type": "stream",
          "name": "stdout",
          "text": [
            "baekjoon\n",
            "1 0 -1 -1 2 -1 -1 -1 -1 4 3 -1 -1 7 5 -1 -1 -1 -1 -1 -1 -1 -1 -1 -1 -1\n"
          ]
        }
      ],
      "source": [
        "# [10809번 : 알파벳 찾기](https://www.acmicpc.net/problem/10809)\n",
        "# 🙋‍♀️ 내 코드\n",
        "\n",
        "S = input()\n",
        "alpha = 'abcdefghijklmnopqrstuvwxyz'\n",
        "result = []\n",
        "for a in alpha :\n",
        "    result.append(S.find(a))\n",
        "print(*result, sep = ' ')"
      ]
    },
    {
      "cell_type": "code",
      "source": [
        ""
      ],
      "metadata": {
        "id": "puXoDllnc6t8"
      },
      "execution_count": 12,
      "outputs": []
    }
  ]
}