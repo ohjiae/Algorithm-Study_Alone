{
  "nbformat": 4,
  "nbformat_minor": 0,
  "metadata": {
    "colab": {
      "name": "boj_step5.ipynb",
      "provenance": [],
      "authorship_tag": "ABX9TyN3oyG/YI1nbN52Io8MbHeE",
      "include_colab_link": true
    },
    "kernelspec": {
      "name": "python3",
      "display_name": "Python 3"
    },
    "language_info": {
      "name": "python"
    }
  },
  "cells": [
    {
      "cell_type": "markdown",
      "metadata": {
        "id": "view-in-github",
        "colab_type": "text"
      },
      "source": [
        "<a href=\"https://colab.research.google.com/github/ohjiae/solving_problems/blob/main/boj_step5.ipynb\" target=\"_parent\"><img src=\"https://colab.research.google.com/assets/colab-badge.svg\" alt=\"Open In Colab\"/></a>"
      ]
    },
    {
      "cell_type": "markdown",
      "source": [
        "# 백준 단계별로 문제풀기\n",
        "## 5단계 \n",
        "\n",
        "\n",
        "### 6. [8958번 : OX퀴즈](https://www.acmicpc.net/problem/8958)\n",
        "**문제**\n",
        "\n",
        "\"OOXXOXXOOO\"와 같은 OX퀴즈의 결과가 있다. O는 문제를 맞은 것이고, X는 문제를 틀린 것이다. 문제를 맞은 경우 그 문제의 점수는 그 문제까지 연속된 O의 개수가 된다. 예를 들어, 10번 문제의 점수는 3이 된다.\n",
        "\n",
        "\"OOXXOXXOOO\"의 점수는 1+2+0+0+1+0+0+1+2+3 = 10점이다.\n",
        "\n",
        "OX퀴즈의 결과가 주어졌을 때, 점수를 구하는 프로그램을 작성하시오.\n",
        "\n",
        "--------\n",
        "**입력**\n",
        "\n",
        "첫째 줄에 테스트 케이스의 개수가 주어진다. 각 테스트 케이스는 한 줄로 이루어져 있고, 길이가 0보다 크고 80보다 작은 문자열이 주어진다. 문자열은 O와 X만으로 이루어져 있다.\n",
        "\n",
        "-------\n",
        "\n",
        "**출력**\n",
        "\n",
        "각 테스트 케이스마다 점수를 출력한다.\n",
        "\n",
        "\n",
        "**🙋‍♀️ 내코드**"
      ],
      "metadata": {
        "id": "kFakWuFteYRX"
      }
    },
    {
      "cell_type": "code",
      "source": [
        "import sys\n",
        "num = int(input())\n",
        "OX_line = []\n",
        "for _ in range(num):\n",
        "    OX_line.append(sys.stdin.readline().strip().split('X'))\n",
        "for OX in OX_line:\n",
        "    sum = 0\n",
        "    for i in OX:\n",
        "        n = len(i)\n",
        "        sum += ((n**2)+n)/2 #삼각수 공식\n",
        "    print(int(sum))"
      ],
      "metadata": {
        "id": "zROAn4aTW31l"
      },
      "execution_count": null,
      "outputs": []
    },
    {
      "cell_type": "markdown",
      "source": [
        ""
      ],
      "metadata": {
        "id": "s61KD4u7nUyM"
      }
    },
    {
      "cell_type": "markdown",
      "source": [
        "** 더 짧게 줄여보자 **\n"
      ],
      "metadata": {
        "id": "mRXdFqIinU0l"
      }
    },
    {
      "cell_type": "code",
      "source": [
        "import sys\n",
        "OX_line = [list(map(str,sys.stdin.readline().strip().split('X'))) for _ in range(int(input()))]\n",
        "for OX in OX_line:\n",
        "    sum = 0\n",
        "    for i in OX:\n",
        "        n = len(i)\n",
        "        sum += ((n**2)+n)/2 #삼각수 공식\n",
        "    print(int(sum))\n",
        "\n",
        "   # 더 빠르진않음 ㅠ "
      ],
      "metadata": {
        "id": "jcceJMJFnYFn"
      },
      "execution_count": null,
      "outputs": []
    },
    {
      "cell_type": "markdown",
      "source": [
        "\n",
        "### 7. [4344번 : 평균은 넘겠지](https://www.acmicpc.net/problem/4344)\n",
        "**문제**\n",
        "\n",
        "대학생 새내기들의 90%는 자신이 반에서 평균은 넘는다고 생각한다. 당신은 그들에게 슬픈 진실을 알려줘야 한다.\n",
        "\n",
        "--------\n",
        "**입력**\n",
        "\n",
        "첫째 줄에는 테스트 케이스의 개수 C가 주어진다.\n",
        "\n",
        "둘째 줄부터 각 테스트 케이스마다 학생의 수 N(1 ≤ N ≤ 1000, N은 정수)이 첫 수로 주어지고, 이어서 N명의 점수가 주어진다. 점수는 0보다 크거나 같고, 100보다 작거나 같은 정수이다.\n",
        "\n",
        "-------\n",
        "\n",
        "**출력**\n",
        "\n",
        "각 케이스마다 한 줄씩 평균을 넘는 학생들의 비율을 반올림하여 소수점 셋째 자리까지 출력한다.\n",
        "\n",
        "**🙋‍♀️ 내코드**"
      ],
      "metadata": {
        "id": "_lc1247ckgjY"
      }
    },
    {
      "cell_type": "code",
      "source": [
        "import sys\n",
        "n = int(input())\n",
        "for _ in range(n):\n",
        "    st_num, *scores = map(int,sys.stdin.readline().split())\n",
        "    print('%.3f' %(sum(scores)/st_num)+'%')\n"
      ],
      "metadata": {
        "id": "jlGbhpHTk9u6"
      },
      "execution_count": null,
      "outputs": []
    }
  ]
}
