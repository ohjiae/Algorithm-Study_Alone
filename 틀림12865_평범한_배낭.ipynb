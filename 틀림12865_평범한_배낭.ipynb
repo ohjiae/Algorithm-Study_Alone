{
  "nbformat": 4,
  "nbformat_minor": 0,
  "metadata": {
    "colab": {
      "name": "틀림12865-평범한_배낭.ipynb",
      "provenance": [],
      "collapsed_sections": [],
      "authorship_tag": "ABX9TyM7RAATKoQAe8eMsYgimn+x",
      "include_colab_link": true
    },
    "kernelspec": {
      "name": "python3",
      "display_name": "Python 3"
    },
    "language_info": {
      "name": "python"
    }
  },
  "cells": [
    {
      "cell_type": "markdown",
      "metadata": {
        "id": "view-in-github",
        "colab_type": "text"
      },
      "source": [
        "<a href=\"https://colab.research.google.com/github/ohjiae/Problems_Solving/blob/main/%ED%8B%80%EB%A6%BC12865_%ED%8F%89%EB%B2%94%ED%95%9C_%EB%B0%B0%EB%82%AD.ipynb\" target=\"_parent\"><img src=\"https://colab.research.google.com/assets/colab-badge.svg\" alt=\"Open In Colab\"/></a>"
      ]
    },
    {
      "cell_type": "code",
      "execution_count": null,
      "metadata": {
        "id": "oc32CPHeCGNo"
      },
      "outputs": [],
      "source": [
        "# [12865번 : 평범한 배낭](https://www.acmicpc.net/problem/12865)\n",
        "# 🙋‍♀️ 내 코드\n",
        "\n",
        "\n",
        "# 부분 합\n",
        "\n",
        "\n",
        "import sys\n",
        "input = sys.stdin.readline\n",
        "\n",
        "n, k = map(int,input().split())\n",
        "\n",
        "stuff = {}\n",
        "for i in range(n):\n",
        "    stuff[i] = list(map(int,input().split()))\n",
        "\n",
        "        # 로직\n",
        "        #[넣는 과정]\n",
        "        # 원소 하나의 무게가 k를 넘을경우 역시 원소 추가 X, 적거나 같을때만 넣기. \n",
        "        # 원소무게=가방최대무게 같을때는 넣기 전 앞의 것과 비교해 밸류가 max인것만 원소 넣기.\n",
        "\n",
        "        #[넣고난 후]\n",
        "        # 각 조합의 부분합이 큰것만 저장\n",
        "\n",
        "        #코딩...아직..미완성...\n",
        "\n",
        "\n",
        "total_v = []\n",
        "temp_v = 0\n",
        "bag = k\n",
        "for j in range(n):\n",
        "    this_w = stuff[j][1]\n",
        "    this_v = stuff[j][0]\n",
        "\n",
        "    # 하나 밖에 못 넣을 때\n",
        "    if this_w == k :\n",
        "        total_v.append(stuff[j][0])\n",
        "    \n",
        "    # 지금 물건 무게가 작을 때만 시도\n",
        "    elif this_w < k :\n",
        "\n",
        "        # 기존 물건 + 새 물건 + 새물건2 >> 2중 포문. ...반복 (k무게가 남아있는한)\n",
        "\n",
        "        # 새물건 넣기전에 무게가 같아지거나 넘을거같으면 지금 밸류 합 total_v에 append\n",
        "        # 그리고 그 경우에 append 후 temp_v를 0으로 초기화, 다음 for문시작.(기준이 되는 기존물건 변경)\n",
        "        for m in range(1,n):\n",
        "            if k > bag - this_w > 0 :\n",
        "                bag -= this_w\n",
        "                temp_v += this_v\n",
        "\n",
        "            elif bag - this_w == 0 :\n",
        "                bag = k\n",
        "                temp_v += this_v\n",
        "                total_v.append(temp_v)\n",
        "                temp_v = 0\n",
        "\n",
        "print(max(total_v))"
      ]
    }
  ]
}
